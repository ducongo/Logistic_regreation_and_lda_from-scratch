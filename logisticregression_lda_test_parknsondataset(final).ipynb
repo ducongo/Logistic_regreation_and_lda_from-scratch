{
  "nbformat": 4,
  "nbformat_minor": 0,
  "metadata": {
    "colab": {
      "name": "handin2_logisticregression_lda_test_parknsondataset(final).ipynb",
      "provenance": []
    },
    "kernelspec": {
      "name": "python3",
      "display_name": "Python 3"
    }
  },
  "cells": [
    {
      "cell_type": "code",
      "metadata": {
        "id": "DaUx80wB1Xml",
        "colab_type": "code",
        "colab": {}
      },
      "source": [
        "import numpy as np\n",
        "import pandas as pd\n",
        "import matplotlib.pyplot as plt\n",
        "import seaborn as sns\n",
        "import time\n",
        "from mpl_toolkits.mplot3d import axes3d"
      ],
      "execution_count": 0,
      "outputs": []
    },
    {
      "cell_type": "code",
      "metadata": {
        "id": "Pg2hm6gm1wf7",
        "colab_type": "code",
        "colab": {}
      },
      "source": [
        "parkinson_data_url = \"https://raw.githubusercontent.com/ducongo/mlcoursedataset/master/parkinsons.data?token=AGNTW7WKJAHJD63C3JNGCT26IMGZK\""
      ],
      "execution_count": 0,
      "outputs": []
    },
    {
      "cell_type": "code",
      "metadata": {
        "id": "gyOaPOF73O-T",
        "colab_type": "code",
        "colab": {}
      },
      "source": [
        "parkinson_data = pd.read_csv(parkinson_data_url)\n",
        "parkinson_data = pd.read_csv(parkinson_data_url)\n",
        "\n",
        "#moving status column to the last column index\n",
        "df1 = parkinson_data.pop('status')\n",
        "parkinson_data['status'] = df1"
      ],
      "execution_count": 0,
      "outputs": []
    },
    {
      "cell_type": "code",
      "metadata": {
        "id": "u5_tTVJTLl-3",
        "colab_type": "code",
        "colab": {}
      },
      "source": [
        "'''\n",
        "NOTE: There will be 3 instances where you have to choose a file to be uploaded.\n",
        "      In order, they are:\n",
        "        1. logisticregression.py\n",
        "        2. kfold.py\n",
        "        3. lda.py\n",
        "      Make sure these files are stored somewhere on your computer.\n",
        "      If you take too long to click \"Choose File\", just re-run the code (Ctrl+F9) and try again.\n",
        "      If you get any weird errors before choosing a file, just re-run the code (Ctrl+F9) and try again.\n",
        "'''\n",
        "from google.colab import files\n",
        "src_logistic_reg = list(files.upload().values())[0] # Choose File: logisticregression.py\n",
        "src_kfold = list(files.upload().values())[0] # Choose File: kfold.py\n",
        "src_lda2 = list(files.upload().values())[0] # Choose File: lda.py"
      ],
      "execution_count": 0,
      "outputs": []
    },
    {
      "cell_type": "markdown",
      "metadata": {
        "id": "VD5vB7yMt9pD",
        "colab_type": "text"
      },
      "source": [
        "##Parkinson data exploration"
      ]
    },
    {
      "cell_type": "code",
      "metadata": {
        "id": "oozwPC9F3qyR",
        "colab_type": "code",
        "outputId": "e7086c18-b68a-4e6b-eb72-37fe4ae6db32",
        "colab": {
          "base_uri": "https://localhost:8080/",
          "height": 224
        }
      },
      "source": [
        "parkinson_data.head()"
      ],
      "execution_count": 0,
      "outputs": [
        {
          "output_type": "execute_result",
          "data": {
            "text/html": [
              "<div>\n",
              "<style scoped>\n",
              "    .dataframe tbody tr th:only-of-type {\n",
              "        vertical-align: middle;\n",
              "    }\n",
              "\n",
              "    .dataframe tbody tr th {\n",
              "        vertical-align: top;\n",
              "    }\n",
              "\n",
              "    .dataframe thead th {\n",
              "        text-align: right;\n",
              "    }\n",
              "</style>\n",
              "<table border=\"1\" class=\"dataframe\">\n",
              "  <thead>\n",
              "    <tr style=\"text-align: right;\">\n",
              "      <th></th>\n",
              "      <th>name</th>\n",
              "      <th>MDVP:Fo(Hz)</th>\n",
              "      <th>MDVP:Fhi(Hz)</th>\n",
              "      <th>MDVP:Flo(Hz)</th>\n",
              "      <th>MDVP:Jitter(%)</th>\n",
              "      <th>MDVP:Jitter(Abs)</th>\n",
              "      <th>MDVP:RAP</th>\n",
              "      <th>MDVP:PPQ</th>\n",
              "      <th>Jitter:DDP</th>\n",
              "      <th>MDVP:Shimmer</th>\n",
              "      <th>MDVP:Shimmer(dB)</th>\n",
              "      <th>Shimmer:APQ3</th>\n",
              "      <th>Shimmer:APQ5</th>\n",
              "      <th>MDVP:APQ</th>\n",
              "      <th>Shimmer:DDA</th>\n",
              "      <th>NHR</th>\n",
              "      <th>HNR</th>\n",
              "      <th>RPDE</th>\n",
              "      <th>DFA</th>\n",
              "      <th>spread1</th>\n",
              "      <th>spread2</th>\n",
              "      <th>D2</th>\n",
              "      <th>PPE</th>\n",
              "      <th>status</th>\n",
              "    </tr>\n",
              "  </thead>\n",
              "  <tbody>\n",
              "    <tr>\n",
              "      <th>0</th>\n",
              "      <td>phon_R01_S01_1</td>\n",
              "      <td>119.992</td>\n",
              "      <td>157.302</td>\n",
              "      <td>74.997</td>\n",
              "      <td>0.00784</td>\n",
              "      <td>0.00007</td>\n",
              "      <td>0.00370</td>\n",
              "      <td>0.00554</td>\n",
              "      <td>0.01109</td>\n",
              "      <td>0.04374</td>\n",
              "      <td>0.426</td>\n",
              "      <td>0.02182</td>\n",
              "      <td>0.03130</td>\n",
              "      <td>0.02971</td>\n",
              "      <td>0.06545</td>\n",
              "      <td>0.02211</td>\n",
              "      <td>21.033</td>\n",
              "      <td>0.414783</td>\n",
              "      <td>0.815285</td>\n",
              "      <td>-4.813031</td>\n",
              "      <td>0.266482</td>\n",
              "      <td>2.301442</td>\n",
              "      <td>0.284654</td>\n",
              "      <td>1</td>\n",
              "    </tr>\n",
              "    <tr>\n",
              "      <th>1</th>\n",
              "      <td>phon_R01_S01_2</td>\n",
              "      <td>122.400</td>\n",
              "      <td>148.650</td>\n",
              "      <td>113.819</td>\n",
              "      <td>0.00968</td>\n",
              "      <td>0.00008</td>\n",
              "      <td>0.00465</td>\n",
              "      <td>0.00696</td>\n",
              "      <td>0.01394</td>\n",
              "      <td>0.06134</td>\n",
              "      <td>0.626</td>\n",
              "      <td>0.03134</td>\n",
              "      <td>0.04518</td>\n",
              "      <td>0.04368</td>\n",
              "      <td>0.09403</td>\n",
              "      <td>0.01929</td>\n",
              "      <td>19.085</td>\n",
              "      <td>0.458359</td>\n",
              "      <td>0.819521</td>\n",
              "      <td>-4.075192</td>\n",
              "      <td>0.335590</td>\n",
              "      <td>2.486855</td>\n",
              "      <td>0.368674</td>\n",
              "      <td>1</td>\n",
              "    </tr>\n",
              "    <tr>\n",
              "      <th>2</th>\n",
              "      <td>phon_R01_S01_3</td>\n",
              "      <td>116.682</td>\n",
              "      <td>131.111</td>\n",
              "      <td>111.555</td>\n",
              "      <td>0.01050</td>\n",
              "      <td>0.00009</td>\n",
              "      <td>0.00544</td>\n",
              "      <td>0.00781</td>\n",
              "      <td>0.01633</td>\n",
              "      <td>0.05233</td>\n",
              "      <td>0.482</td>\n",
              "      <td>0.02757</td>\n",
              "      <td>0.03858</td>\n",
              "      <td>0.03590</td>\n",
              "      <td>0.08270</td>\n",
              "      <td>0.01309</td>\n",
              "      <td>20.651</td>\n",
              "      <td>0.429895</td>\n",
              "      <td>0.825288</td>\n",
              "      <td>-4.443179</td>\n",
              "      <td>0.311173</td>\n",
              "      <td>2.342259</td>\n",
              "      <td>0.332634</td>\n",
              "      <td>1</td>\n",
              "    </tr>\n",
              "    <tr>\n",
              "      <th>3</th>\n",
              "      <td>phon_R01_S01_4</td>\n",
              "      <td>116.676</td>\n",
              "      <td>137.871</td>\n",
              "      <td>111.366</td>\n",
              "      <td>0.00997</td>\n",
              "      <td>0.00009</td>\n",
              "      <td>0.00502</td>\n",
              "      <td>0.00698</td>\n",
              "      <td>0.01505</td>\n",
              "      <td>0.05492</td>\n",
              "      <td>0.517</td>\n",
              "      <td>0.02924</td>\n",
              "      <td>0.04005</td>\n",
              "      <td>0.03772</td>\n",
              "      <td>0.08771</td>\n",
              "      <td>0.01353</td>\n",
              "      <td>20.644</td>\n",
              "      <td>0.434969</td>\n",
              "      <td>0.819235</td>\n",
              "      <td>-4.117501</td>\n",
              "      <td>0.334147</td>\n",
              "      <td>2.405554</td>\n",
              "      <td>0.368975</td>\n",
              "      <td>1</td>\n",
              "    </tr>\n",
              "    <tr>\n",
              "      <th>4</th>\n",
              "      <td>phon_R01_S01_5</td>\n",
              "      <td>116.014</td>\n",
              "      <td>141.781</td>\n",
              "      <td>110.655</td>\n",
              "      <td>0.01284</td>\n",
              "      <td>0.00011</td>\n",
              "      <td>0.00655</td>\n",
              "      <td>0.00908</td>\n",
              "      <td>0.01966</td>\n",
              "      <td>0.06425</td>\n",
              "      <td>0.584</td>\n",
              "      <td>0.03490</td>\n",
              "      <td>0.04825</td>\n",
              "      <td>0.04465</td>\n",
              "      <td>0.10470</td>\n",
              "      <td>0.01767</td>\n",
              "      <td>19.649</td>\n",
              "      <td>0.417356</td>\n",
              "      <td>0.823484</td>\n",
              "      <td>-3.747787</td>\n",
              "      <td>0.234513</td>\n",
              "      <td>2.332180</td>\n",
              "      <td>0.410335</td>\n",
              "      <td>1</td>\n",
              "    </tr>\n",
              "  </tbody>\n",
              "</table>\n",
              "</div>"
            ],
            "text/plain": [
              "             name  MDVP:Fo(Hz)  MDVP:Fhi(Hz)  ...        D2       PPE  status\n",
              "0  phon_R01_S01_1      119.992       157.302  ...  2.301442  0.284654       1\n",
              "1  phon_R01_S01_2      122.400       148.650  ...  2.486855  0.368674       1\n",
              "2  phon_R01_S01_3      116.682       131.111  ...  2.342259  0.332634       1\n",
              "3  phon_R01_S01_4      116.676       137.871  ...  2.405554  0.368975       1\n",
              "4  phon_R01_S01_5      116.014       141.781  ...  2.332180  0.410335       1\n",
              "\n",
              "[5 rows x 24 columns]"
            ]
          },
          "metadata": {
            "tags": []
          },
          "execution_count": 4
        }
      ]
    },
    {
      "cell_type": "code",
      "metadata": {
        "id": "jBc5-wC_5AJk",
        "colab_type": "code",
        "outputId": "c20582e5-abd9-4a6a-99d9-0fb2eb72995e",
        "colab": {
          "base_uri": "https://localhost:8080/",
          "height": 539
        }
      },
      "source": [
        "parkinson_data.info()"
      ],
      "execution_count": 0,
      "outputs": [
        {
          "output_type": "stream",
          "text": [
            "<class 'pandas.core.frame.DataFrame'>\n",
            "RangeIndex: 195 entries, 0 to 194\n",
            "Data columns (total 24 columns):\n",
            "name                195 non-null object\n",
            "MDVP:Fo(Hz)         195 non-null float64\n",
            "MDVP:Fhi(Hz)        195 non-null float64\n",
            "MDVP:Flo(Hz)        195 non-null float64\n",
            "MDVP:Jitter(%)      195 non-null float64\n",
            "MDVP:Jitter(Abs)    195 non-null float64\n",
            "MDVP:RAP            195 non-null float64\n",
            "MDVP:PPQ            195 non-null float64\n",
            "Jitter:DDP          195 non-null float64\n",
            "MDVP:Shimmer        195 non-null float64\n",
            "MDVP:Shimmer(dB)    195 non-null float64\n",
            "Shimmer:APQ3        195 non-null float64\n",
            "Shimmer:APQ5        195 non-null float64\n",
            "MDVP:APQ            195 non-null float64\n",
            "Shimmer:DDA         195 non-null float64\n",
            "NHR                 195 non-null float64\n",
            "HNR                 195 non-null float64\n",
            "RPDE                195 non-null float64\n",
            "DFA                 195 non-null float64\n",
            "spread1             195 non-null float64\n",
            "spread2             195 non-null float64\n",
            "D2                  195 non-null float64\n",
            "PPE                 195 non-null float64\n",
            "status              195 non-null int64\n",
            "dtypes: float64(22), int64(1), object(1)\n",
            "memory usage: 36.7+ KB\n"
          ],
          "name": "stdout"
        }
      ]
    },
    {
      "cell_type": "code",
      "metadata": {
        "id": "2QdrTB395H9U",
        "colab_type": "code",
        "outputId": "4e638920-6e02-4cb4-8a9e-1f4aa715e539",
        "colab": {
          "base_uri": "https://localhost:8080/",
          "height": 317
        }
      },
      "source": [
        "parkinson_data.describe()"
      ],
      "execution_count": 0,
      "outputs": [
        {
          "output_type": "execute_result",
          "data": {
            "text/html": [
              "<div>\n",
              "<style scoped>\n",
              "    .dataframe tbody tr th:only-of-type {\n",
              "        vertical-align: middle;\n",
              "    }\n",
              "\n",
              "    .dataframe tbody tr th {\n",
              "        vertical-align: top;\n",
              "    }\n",
              "\n",
              "    .dataframe thead th {\n",
              "        text-align: right;\n",
              "    }\n",
              "</style>\n",
              "<table border=\"1\" class=\"dataframe\">\n",
              "  <thead>\n",
              "    <tr style=\"text-align: right;\">\n",
              "      <th></th>\n",
              "      <th>MDVP:Fo(Hz)</th>\n",
              "      <th>MDVP:Fhi(Hz)</th>\n",
              "      <th>MDVP:Flo(Hz)</th>\n",
              "      <th>MDVP:Jitter(%)</th>\n",
              "      <th>MDVP:Jitter(Abs)</th>\n",
              "      <th>MDVP:RAP</th>\n",
              "      <th>MDVP:PPQ</th>\n",
              "      <th>Jitter:DDP</th>\n",
              "      <th>MDVP:Shimmer</th>\n",
              "      <th>MDVP:Shimmer(dB)</th>\n",
              "      <th>Shimmer:APQ3</th>\n",
              "      <th>Shimmer:APQ5</th>\n",
              "      <th>MDVP:APQ</th>\n",
              "      <th>Shimmer:DDA</th>\n",
              "      <th>NHR</th>\n",
              "      <th>HNR</th>\n",
              "      <th>RPDE</th>\n",
              "      <th>DFA</th>\n",
              "      <th>spread1</th>\n",
              "      <th>spread2</th>\n",
              "      <th>D2</th>\n",
              "      <th>PPE</th>\n",
              "      <th>status</th>\n",
              "    </tr>\n",
              "  </thead>\n",
              "  <tbody>\n",
              "    <tr>\n",
              "      <th>count</th>\n",
              "      <td>195.000000</td>\n",
              "      <td>195.000000</td>\n",
              "      <td>195.000000</td>\n",
              "      <td>195.000000</td>\n",
              "      <td>195.000000</td>\n",
              "      <td>195.000000</td>\n",
              "      <td>195.000000</td>\n",
              "      <td>195.000000</td>\n",
              "      <td>195.000000</td>\n",
              "      <td>195.000000</td>\n",
              "      <td>195.000000</td>\n",
              "      <td>195.000000</td>\n",
              "      <td>195.000000</td>\n",
              "      <td>195.000000</td>\n",
              "      <td>195.000000</td>\n",
              "      <td>195.000000</td>\n",
              "      <td>195.000000</td>\n",
              "      <td>195.000000</td>\n",
              "      <td>195.000000</td>\n",
              "      <td>195.000000</td>\n",
              "      <td>195.000000</td>\n",
              "      <td>195.000000</td>\n",
              "      <td>195.000000</td>\n",
              "    </tr>\n",
              "    <tr>\n",
              "      <th>mean</th>\n",
              "      <td>154.228641</td>\n",
              "      <td>197.104918</td>\n",
              "      <td>116.324631</td>\n",
              "      <td>0.006220</td>\n",
              "      <td>0.000044</td>\n",
              "      <td>0.003306</td>\n",
              "      <td>0.003446</td>\n",
              "      <td>0.009920</td>\n",
              "      <td>0.029709</td>\n",
              "      <td>0.282251</td>\n",
              "      <td>0.015664</td>\n",
              "      <td>0.017878</td>\n",
              "      <td>0.024081</td>\n",
              "      <td>0.046993</td>\n",
              "      <td>0.024847</td>\n",
              "      <td>21.885974</td>\n",
              "      <td>0.498536</td>\n",
              "      <td>0.718099</td>\n",
              "      <td>-5.684397</td>\n",
              "      <td>0.226510</td>\n",
              "      <td>2.381826</td>\n",
              "      <td>0.206552</td>\n",
              "      <td>0.753846</td>\n",
              "    </tr>\n",
              "    <tr>\n",
              "      <th>std</th>\n",
              "      <td>41.390065</td>\n",
              "      <td>91.491548</td>\n",
              "      <td>43.521413</td>\n",
              "      <td>0.004848</td>\n",
              "      <td>0.000035</td>\n",
              "      <td>0.002968</td>\n",
              "      <td>0.002759</td>\n",
              "      <td>0.008903</td>\n",
              "      <td>0.018857</td>\n",
              "      <td>0.194877</td>\n",
              "      <td>0.010153</td>\n",
              "      <td>0.012024</td>\n",
              "      <td>0.016947</td>\n",
              "      <td>0.030459</td>\n",
              "      <td>0.040418</td>\n",
              "      <td>4.425764</td>\n",
              "      <td>0.103942</td>\n",
              "      <td>0.055336</td>\n",
              "      <td>1.090208</td>\n",
              "      <td>0.083406</td>\n",
              "      <td>0.382799</td>\n",
              "      <td>0.090119</td>\n",
              "      <td>0.431878</td>\n",
              "    </tr>\n",
              "    <tr>\n",
              "      <th>min</th>\n",
              "      <td>88.333000</td>\n",
              "      <td>102.145000</td>\n",
              "      <td>65.476000</td>\n",
              "      <td>0.001680</td>\n",
              "      <td>0.000007</td>\n",
              "      <td>0.000680</td>\n",
              "      <td>0.000920</td>\n",
              "      <td>0.002040</td>\n",
              "      <td>0.009540</td>\n",
              "      <td>0.085000</td>\n",
              "      <td>0.004550</td>\n",
              "      <td>0.005700</td>\n",
              "      <td>0.007190</td>\n",
              "      <td>0.013640</td>\n",
              "      <td>0.000650</td>\n",
              "      <td>8.441000</td>\n",
              "      <td>0.256570</td>\n",
              "      <td>0.574282</td>\n",
              "      <td>-7.964984</td>\n",
              "      <td>0.006274</td>\n",
              "      <td>1.423287</td>\n",
              "      <td>0.044539</td>\n",
              "      <td>0.000000</td>\n",
              "    </tr>\n",
              "    <tr>\n",
              "      <th>25%</th>\n",
              "      <td>117.572000</td>\n",
              "      <td>134.862500</td>\n",
              "      <td>84.291000</td>\n",
              "      <td>0.003460</td>\n",
              "      <td>0.000020</td>\n",
              "      <td>0.001660</td>\n",
              "      <td>0.001860</td>\n",
              "      <td>0.004985</td>\n",
              "      <td>0.016505</td>\n",
              "      <td>0.148500</td>\n",
              "      <td>0.008245</td>\n",
              "      <td>0.009580</td>\n",
              "      <td>0.013080</td>\n",
              "      <td>0.024735</td>\n",
              "      <td>0.005925</td>\n",
              "      <td>19.198000</td>\n",
              "      <td>0.421306</td>\n",
              "      <td>0.674758</td>\n",
              "      <td>-6.450096</td>\n",
              "      <td>0.174351</td>\n",
              "      <td>2.099125</td>\n",
              "      <td>0.137451</td>\n",
              "      <td>1.000000</td>\n",
              "    </tr>\n",
              "    <tr>\n",
              "      <th>50%</th>\n",
              "      <td>148.790000</td>\n",
              "      <td>175.829000</td>\n",
              "      <td>104.315000</td>\n",
              "      <td>0.004940</td>\n",
              "      <td>0.000030</td>\n",
              "      <td>0.002500</td>\n",
              "      <td>0.002690</td>\n",
              "      <td>0.007490</td>\n",
              "      <td>0.022970</td>\n",
              "      <td>0.221000</td>\n",
              "      <td>0.012790</td>\n",
              "      <td>0.013470</td>\n",
              "      <td>0.018260</td>\n",
              "      <td>0.038360</td>\n",
              "      <td>0.011660</td>\n",
              "      <td>22.085000</td>\n",
              "      <td>0.495954</td>\n",
              "      <td>0.722254</td>\n",
              "      <td>-5.720868</td>\n",
              "      <td>0.218885</td>\n",
              "      <td>2.361532</td>\n",
              "      <td>0.194052</td>\n",
              "      <td>1.000000</td>\n",
              "    </tr>\n",
              "    <tr>\n",
              "      <th>75%</th>\n",
              "      <td>182.769000</td>\n",
              "      <td>224.205500</td>\n",
              "      <td>140.018500</td>\n",
              "      <td>0.007365</td>\n",
              "      <td>0.000060</td>\n",
              "      <td>0.003835</td>\n",
              "      <td>0.003955</td>\n",
              "      <td>0.011505</td>\n",
              "      <td>0.037885</td>\n",
              "      <td>0.350000</td>\n",
              "      <td>0.020265</td>\n",
              "      <td>0.022380</td>\n",
              "      <td>0.029400</td>\n",
              "      <td>0.060795</td>\n",
              "      <td>0.025640</td>\n",
              "      <td>25.075500</td>\n",
              "      <td>0.587562</td>\n",
              "      <td>0.761881</td>\n",
              "      <td>-5.046192</td>\n",
              "      <td>0.279234</td>\n",
              "      <td>2.636456</td>\n",
              "      <td>0.252980</td>\n",
              "      <td>1.000000</td>\n",
              "    </tr>\n",
              "    <tr>\n",
              "      <th>max</th>\n",
              "      <td>260.105000</td>\n",
              "      <td>592.030000</td>\n",
              "      <td>239.170000</td>\n",
              "      <td>0.033160</td>\n",
              "      <td>0.000260</td>\n",
              "      <td>0.021440</td>\n",
              "      <td>0.019580</td>\n",
              "      <td>0.064330</td>\n",
              "      <td>0.119080</td>\n",
              "      <td>1.302000</td>\n",
              "      <td>0.056470</td>\n",
              "      <td>0.079400</td>\n",
              "      <td>0.137780</td>\n",
              "      <td>0.169420</td>\n",
              "      <td>0.314820</td>\n",
              "      <td>33.047000</td>\n",
              "      <td>0.685151</td>\n",
              "      <td>0.825288</td>\n",
              "      <td>-2.434031</td>\n",
              "      <td>0.450493</td>\n",
              "      <td>3.671155</td>\n",
              "      <td>0.527367</td>\n",
              "      <td>1.000000</td>\n",
              "    </tr>\n",
              "  </tbody>\n",
              "</table>\n",
              "</div>"
            ],
            "text/plain": [
              "       MDVP:Fo(Hz)  MDVP:Fhi(Hz)  ...         PPE      status\n",
              "count   195.000000    195.000000  ...  195.000000  195.000000\n",
              "mean    154.228641    197.104918  ...    0.206552    0.753846\n",
              "std      41.390065     91.491548  ...    0.090119    0.431878\n",
              "min      88.333000    102.145000  ...    0.044539    0.000000\n",
              "25%     117.572000    134.862500  ...    0.137451    1.000000\n",
              "50%     148.790000    175.829000  ...    0.194052    1.000000\n",
              "75%     182.769000    224.205500  ...    0.252980    1.000000\n",
              "max     260.105000    592.030000  ...    0.527367    1.000000\n",
              "\n",
              "[8 rows x 23 columns]"
            ]
          },
          "metadata": {
            "tags": []
          },
          "execution_count": 6
        }
      ]
    },
    {
      "cell_type": "code",
      "metadata": {
        "id": "FE6BvWfA5QHW",
        "colab_type": "code",
        "outputId": "383a1238-2494-447c-b5d3-b7a0ef5df65a",
        "colab": {
          "base_uri": "https://localhost:8080/",
          "height": 297
        }
      },
      "source": [
        "sns.countplot(x=\"status\", data=parkinson_data)"
      ],
      "execution_count": 0,
      "outputs": [
        {
          "output_type": "execute_result",
          "data": {
            "text/plain": [
              "<matplotlib.axes._subplots.AxesSubplot at 0x7f3774faf160>"
            ]
          },
          "metadata": {
            "tags": []
          },
          "execution_count": 7
        },
        {
          "output_type": "display_data",
          "data": {
            "image/png": "[encoded data removed]",
            "text/plain": [
              "<Figure size 432x288 with 1 Axes>"
            ]
          },
          "metadata": {
            "tags": []
          }
        }
      ]
    },
    {
      "cell_type": "markdown",
      "metadata": {
        "id": "FmAp1LOqGxVC",
        "colab_type": "text"
      },
      "source": [
        "The fact that there's more sample with a status of 1 thn a status of 0 will surely make our model on this dataset bias"
      ]
    },
    {
      "cell_type": "code",
      "metadata": {
        "id": "--tlZE965otf",
        "colab_type": "code",
        "outputId": "27e1a8f1-5f45-43c5-9cd5-693d2b8c5f88",
        "colab": {
          "base_uri": "https://localhost:8080/",
          "height": 439
        }
      },
      "source": [
        "parkinson_data.isnull()"
      ],
      "execution_count": 0,
      "outputs": [
        {
          "output_type": "execute_result",
          "data": {
            "text/html": [
              "<div>\n",
              "<style scoped>\n",
              "    .dataframe tbody tr th:only-of-type {\n",
              "        vertical-align: middle;\n",
              "    }\n",
              "\n",
              "    .dataframe tbody tr th {\n",
              "        vertical-align: top;\n",
              "    }\n",
              "\n",
              "    .dataframe thead th {\n",
              "        text-align: right;\n",
              "    }\n",
              "</style>\n",
              "<table border=\"1\" class=\"dataframe\">\n",
              "  <thead>\n",
              "    <tr style=\"text-align: right;\">\n",
              "      <th></th>\n",
              "      <th>name</th>\n",
              "      <th>MDVP:Fo(Hz)</th>\n",
              "      <th>MDVP:Fhi(Hz)</th>\n",
              "      <th>MDVP:Flo(Hz)</th>\n",
              "      <th>MDVP:Jitter(%)</th>\n",
              "      <th>MDVP:Jitter(Abs)</th>\n",
              "      <th>MDVP:RAP</th>\n",
              "      <th>MDVP:PPQ</th>\n",
              "      <th>Jitter:DDP</th>\n",
              "      <th>MDVP:Shimmer</th>\n",
              "      <th>MDVP:Shimmer(dB)</th>\n",
              "      <th>Shimmer:APQ3</th>\n",
              "      <th>Shimmer:APQ5</th>\n",
              "      <th>MDVP:APQ</th>\n",
              "      <th>Shimmer:DDA</th>\n",
              "      <th>NHR</th>\n",
              "      <th>HNR</th>\n",
              "      <th>RPDE</th>\n",
              "      <th>DFA</th>\n",
              "      <th>spread1</th>\n",
              "      <th>spread2</th>\n",
              "      <th>D2</th>\n",
              "      <th>PPE</th>\n",
              "      <th>status</th>\n",
              "    </tr>\n",
              "  </thead>\n",
              "  <tbody>\n",
              "    <tr>\n",
              "      <th>0</th>\n",
              "      <td>False</td>\n",
              "      <td>False</td>\n",
              "      <td>False</td>\n",
              "      <td>False</td>\n",
              "      <td>False</td>\n",
              "      <td>False</td>\n",
              "      <td>False</td>\n",
              "      <td>False</td>\n",
              "      <td>False</td>\n",
              "      <td>False</td>\n",
              "      <td>False</td>\n",
              "      <td>False</td>\n",
              "      <td>False</td>\n",
              "      <td>False</td>\n",
              "      <td>False</td>\n",
              "      <td>False</td>\n",
              "      <td>False</td>\n",
              "      <td>False</td>\n",
              "      <td>False</td>\n",
              "      <td>False</td>\n",
              "      <td>False</td>\n",
              "      <td>False</td>\n",
              "      <td>False</td>\n",
              "      <td>False</td>\n",
              "    </tr>\n",
              "    <tr>\n",
              "      <th>1</th>\n",
              "      <td>False</td>\n",
              "      <td>False</td>\n",
              "      <td>False</td>\n",
              "      <td>False</td>\n",
              "      <td>False</td>\n",
              "      <td>False</td>\n",
              "      <td>False</td>\n",
              "      <td>False</td>\n",
              "      <td>False</td>\n",
              "      <td>False</td>\n",
              "      <td>False</td>\n",
              "      <td>False</td>\n",
              "      <td>False</td>\n",
              "      <td>False</td>\n",
              "      <td>False</td>\n",
              "      <td>False</td>\n",
              "      <td>False</td>\n",
              "      <td>False</td>\n",
              "      <td>False</td>\n",
              "      <td>False</td>\n",
              "      <td>False</td>\n",
              "      <td>False</td>\n",
              "      <td>False</td>\n",
              "      <td>False</td>\n",
              "    </tr>\n",
              "    <tr>\n",
              "      <th>2</th>\n",
              "      <td>False</td>\n",
              "      <td>False</td>\n",
              "      <td>False</td>\n",
              "      <td>False</td>\n",
              "      <td>False</td>\n",
              "      <td>False</td>\n",
              "      <td>False</td>\n",
              "      <td>False</td>\n",
              "      <td>False</td>\n",
              "      <td>False</td>\n",
              "      <td>False</td>\n",
              "      <td>False</td>\n",
              "      <td>False</td>\n",
              "      <td>False</td>\n",
              "      <td>False</td>\n",
              "      <td>False</td>\n",
              "      <td>False</td>\n",
              "      <td>False</td>\n",
              "      <td>False</td>\n",
              "      <td>False</td>\n",
              "      <td>False</td>\n",
              "      <td>False</td>\n",
              "      <td>False</td>\n",
              "      <td>False</td>\n",
              "    </tr>\n",
              "    <tr>\n",
              "      <th>3</th>\n",
              "      <td>False</td>\n",
              "      <td>False</td>\n",
              "      <td>False</td>\n",
              "      <td>False</td>\n",
              "      <td>False</td>\n",
              "      <td>False</td>\n",
              "      <td>False</td>\n",
              "      <td>False</td>\n",
              "      <td>False</td>\n",
              "      <td>False</td>\n",
              "      <td>False</td>\n",
              "      <td>False</td>\n",
              "      <td>False</td>\n",
              "      <td>False</td>\n",
              "      <td>False</td>\n",
              "      <td>False</td>\n",
              "      <td>False</td>\n",
              "      <td>False</td>\n",
              "      <td>False</td>\n",
              "      <td>False</td>\n",
              "      <td>False</td>\n",
              "      <td>False</td>\n",
              "      <td>False</td>\n",
              "      <td>False</td>\n",
              "    </tr>\n",
              "    <tr>\n",
              "      <th>4</th>\n",
              "      <td>False</td>\n",
              "      <td>False</td>\n",
              "      <td>False</td>\n",
              "      <td>False</td>\n",
              "      <td>False</td>\n",
              "      <td>False</td>\n",
              "      <td>False</td>\n",
              "      <td>False</td>\n",
              "      <td>False</td>\n",
              "      <td>False</td>\n",
              "      <td>False</td>\n",
              "      <td>False</td>\n",
              "      <td>False</td>\n",
              "      <td>False</td>\n",
              "      <td>False</td>\n",
              "      <td>False</td>\n",
              "      <td>False</td>\n",
              "      <td>False</td>\n",
              "      <td>False</td>\n",
              "      <td>False</td>\n",
              "      <td>False</td>\n",
              "      <td>False</td>\n",
              "      <td>False</td>\n",
              "      <td>False</td>\n",
              "    </tr>\n",
              "    <tr>\n",
              "      <th>...</th>\n",
              "      <td>...</td>\n",
              "      <td>...</td>\n",
              "      <td>...</td>\n",
              "      <td>...</td>\n",
              "      <td>...</td>\n",
              "      <td>...</td>\n",
              "      <td>...</td>\n",
              "      <td>...</td>\n",
              "      <td>...</td>\n",
              "      <td>...</td>\n",
              "      <td>...</td>\n",
              "      <td>...</td>\n",
              "      <td>...</td>\n",
              "      <td>...</td>\n",
              "      <td>...</td>\n",
              "      <td>...</td>\n",
              "      <td>...</td>\n",
              "      <td>...</td>\n",
              "      <td>...</td>\n",
              "      <td>...</td>\n",
              "      <td>...</td>\n",
              "      <td>...</td>\n",
              "      <td>...</td>\n",
              "      <td>...</td>\n",
              "    </tr>\n",
              "    <tr>\n",
              "      <th>190</th>\n",
              "      <td>False</td>\n",
              "      <td>False</td>\n",
              "      <td>False</td>\n",
              "      <td>False</td>\n",
              "      <td>False</td>\n",
              "      <td>False</td>\n",
              "      <td>False</td>\n",
              "      <td>False</td>\n",
              "      <td>False</td>\n",
              "      <td>False</td>\n",
              "      <td>False</td>\n",
              "      <td>False</td>\n",
              "      <td>False</td>\n",
              "      <td>False</td>\n",
              "      <td>False</td>\n",
              "      <td>False</td>\n",
              "      <td>False</td>\n",
              "      <td>False</td>\n",
              "      <td>False</td>\n",
              "      <td>False</td>\n",
              "      <td>False</td>\n",
              "      <td>False</td>\n",
              "      <td>False</td>\n",
              "      <td>False</td>\n",
              "    </tr>\n",
              "    <tr>\n",
              "      <th>191</th>\n",
              "      <td>False</td>\n",
              "      <td>False</td>\n",
              "      <td>False</td>\n",
              "      <td>False</td>\n",
              "      <td>False</td>\n",
              "      <td>False</td>\n",
              "      <td>False</td>\n",
              "      <td>False</td>\n",
              "      <td>False</td>\n",
              "      <td>False</td>\n",
              "      <td>False</td>\n",
              "      <td>False</td>\n",
              "      <td>False</td>\n",
              "      <td>False</td>\n",
              "      <td>False</td>\n",
              "      <td>False</td>\n",
              "      <td>False</td>\n",
              "      <td>False</td>\n",
              "      <td>False</td>\n",
              "      <td>False</td>\n",
              "      <td>False</td>\n",
              "      <td>False</td>\n",
              "      <td>False</td>\n",
              "      <td>False</td>\n",
              "    </tr>\n",
              "    <tr>\n",
              "      <th>192</th>\n",
              "      <td>False</td>\n",
              "      <td>False</td>\n",
              "      <td>False</td>\n",
              "      <td>False</td>\n",
              "      <td>False</td>\n",
              "      <td>False</td>\n",
              "      <td>False</td>\n",
              "      <td>False</td>\n",
              "      <td>False</td>\n",
              "      <td>False</td>\n",
              "      <td>False</td>\n",
              "      <td>False</td>\n",
              "      <td>False</td>\n",
              "      <td>False</td>\n",
              "      <td>False</td>\n",
              "      <td>False</td>\n",
              "      <td>False</td>\n",
              "      <td>False</td>\n",
              "      <td>False</td>\n",
              "      <td>False</td>\n",
              "      <td>False</td>\n",
              "      <td>False</td>\n",
              "      <td>False</td>\n",
              "      <td>False</td>\n",
              "    </tr>\n",
              "    <tr>\n",
              "      <th>193</th>\n",
              "      <td>False</td>\n",
              "      <td>False</td>\n",
              "      <td>False</td>\n",
              "      <td>False</td>\n",
              "      <td>False</td>\n",
              "      <td>False</td>\n",
              "      <td>False</td>\n",
              "      <td>False</td>\n",
              "      <td>False</td>\n",
              "      <td>False</td>\n",
              "      <td>False</td>\n",
              "      <td>False</td>\n",
              "      <td>False</td>\n",
              "      <td>False</td>\n",
              "      <td>False</td>\n",
              "      <td>False</td>\n",
              "      <td>False</td>\n",
              "      <td>False</td>\n",
              "      <td>False</td>\n",
              "      <td>False</td>\n",
              "      <td>False</td>\n",
              "      <td>False</td>\n",
              "      <td>False</td>\n",
              "      <td>False</td>\n",
              "    </tr>\n",
              "    <tr>\n",
              "      <th>194</th>\n",
              "      <td>False</td>\n",
              "      <td>False</td>\n",
              "      <td>False</td>\n",
              "      <td>False</td>\n",
              "      <td>False</td>\n",
              "      <td>False</td>\n",
              "      <td>False</td>\n",
              "      <td>False</td>\n",
              "      <td>False</td>\n",
              "      <td>False</td>\n",
              "      <td>False</td>\n",
              "      <td>False</td>\n",
              "      <td>False</td>\n",
              "      <td>False</td>\n",
              "      <td>False</td>\n",
              "      <td>False</td>\n",
              "      <td>False</td>\n",
              "      <td>False</td>\n",
              "      <td>False</td>\n",
              "      <td>False</td>\n",
              "      <td>False</td>\n",
              "      <td>False</td>\n",
              "      <td>False</td>\n",
              "      <td>False</td>\n",
              "    </tr>\n",
              "  </tbody>\n",
              "</table>\n",
              "<p>195 rows × 24 columns</p>\n",
              "</div>"
            ],
            "text/plain": [
              "      name  MDVP:Fo(Hz)  MDVP:Fhi(Hz)  ...     D2    PPE  status\n",
              "0    False        False         False  ...  False  False   False\n",
              "1    False        False         False  ...  False  False   False\n",
              "2    False        False         False  ...  False  False   False\n",
              "3    False        False         False  ...  False  False   False\n",
              "4    False        False         False  ...  False  False   False\n",
              "..     ...          ...           ...  ...    ...    ...     ...\n",
              "190  False        False         False  ...  False  False   False\n",
              "191  False        False         False  ...  False  False   False\n",
              "192  False        False         False  ...  False  False   False\n",
              "193  False        False         False  ...  False  False   False\n",
              "194  False        False         False  ...  False  False   False\n",
              "\n",
              "[195 rows x 24 columns]"
            ]
          },
          "metadata": {
            "tags": []
          },
          "execution_count": 8
        }
      ]
    },
    {
      "cell_type": "code",
      "metadata": {
        "id": "4BH8hMPy5tKD",
        "colab_type": "code",
        "outputId": "37c171d7-a51f-4cf9-aa13-8981c07596e1",
        "colab": {
          "base_uri": "https://localhost:8080/",
          "height": 467
        }
      },
      "source": [
        "parkinson_data.isnull().sum()"
      ],
      "execution_count": 0,
      "outputs": [
        {
          "output_type": "execute_result",
          "data": {
            "text/plain": [
              "name                0\n",
              "MDVP:Fo(Hz)         0\n",
              "MDVP:Fhi(Hz)        0\n",
              "MDVP:Flo(Hz)        0\n",
              "MDVP:Jitter(%)      0\n",
              "MDVP:Jitter(Abs)    0\n",
              "MDVP:RAP            0\n",
              "MDVP:PPQ            0\n",
              "Jitter:DDP          0\n",
              "MDVP:Shimmer        0\n",
              "MDVP:Shimmer(dB)    0\n",
              "Shimmer:APQ3        0\n",
              "Shimmer:APQ5        0\n",
              "MDVP:APQ            0\n",
              "Shimmer:DDA         0\n",
              "NHR                 0\n",
              "HNR                 0\n",
              "RPDE                0\n",
              "DFA                 0\n",
              "spread1             0\n",
              "spread2             0\n",
              "D2                  0\n",
              "PPE                 0\n",
              "status              0\n",
              "dtype: int64"
            ]
          },
          "metadata": {
            "tags": []
          },
          "execution_count": 9
        }
      ]
    },
    {
      "cell_type": "markdown",
      "metadata": {
        "colab_type": "text",
        "id": "70pYkR9LiOV0"
      },
      "source": [
        "## Finding the best features to use from this dataset\n",
        "There's too man features we don't perhaps need. We are going to see which one are correlated and perform PCS i order to find the best features that will determine the output of our inputs"
      ]
    },
    {
      "cell_type": "code",
      "metadata": {
        "id": "D2riq-ZA6B-F",
        "colab_type": "code",
        "outputId": "7886898c-a27b-418b-e4fb-8d845514646b",
        "colab": {
          "base_uri": "https://localhost:8080/",
          "height": 1000
        }
      },
      "source": [
        "colors = {0:'r', 1:'b'}\n",
        "fig, ax = plt.subplots()\n",
        "fig2, ax2 = plt.subplots()\n",
        "fig3, ax3 = plt.subplots()\n",
        "fig4, ax4 = plt.subplots()\n",
        "fig5, ax5 = plt.subplots()\n",
        "fig6, ax6 = plt.subplots()\n",
        "fig7, ax7 = plt.subplots()\n",
        "fig8, ax8 = plt.subplots()\n",
        "\n",
        "data = parkinson_data\n",
        "# plot each data-point\n",
        "for i in range(len(data['MDVP:Fo(Hz)'])):\n",
        "    ax.scatter(data['MDVP:Fo(Hz)'][i], data['MDVP:Fhi(Hz)'][i],color=colors[data['status'][i]])\n",
        "    ax2.scatter(data['MDVP:Fo(Hz)'][i], data['MDVP:Flo(Hz)'][i],color=colors[data['status'][i]])\n",
        "    ax3.scatter(data['MDVP:Fo(Hz)'][i], data['MDVP:Fhi(Hz)'][i],color=colors[data['status'][i]])\n",
        "    ax4.scatter(data['MDVP:Fo(Hz)'][i], data['MDVP:Jitter(%)'][i],color=colors[data['status'][i]])\n",
        "    ax5.scatter(data['MDVP:Fo(Hz)'][i], data['MDVP:Jitter(Abs)'][i],color=colors[data['status'][i]])\n",
        "    ax6.scatter(data['MDVP:Fo(Hz)'][i], data['MDVP:RAP'][i],color=colors[data['status'][i]])\n",
        "    ax6.scatter(data['MDVP:Fo(Hz)'][i], data['MDVP:PPQ'][i],color=colors[data['status'][i]])\n",
        "    ax6.scatter(data['MDVP:Fo(Hz)'][i], data['Jitter:DDP'][i],color=colors[data['status'][i]])\n",
        "# set a title and labels\n",
        "ax.set_title('Parkinsonn dataset')\n",
        "ax.set_xlabel('MDVP:Fo(Hz)')\n",
        "ax.set_ylabel('MDVP:Fhi(Hz)')\n",
        "\n",
        "ax2.set_title('Parkinsonn dataset')\n",
        "ax2.set_xlabel('MDVP:Fo(Hz)')\n",
        "ax2.set_ylabel('MDVP:Flo(Hz)')\n",
        "\n",
        "ax3.set_title('Parkinsonn dataset')\n",
        "ax3.set_xlabel('MDVP:Fo(Hz)')\n",
        "ax3.set_ylabel('MDVP:Flo(Hz)')\n",
        "\n",
        "ax4.set_title('Parkinsonn dataset')\n",
        "ax4.set_xlabel('MDVP:Fo(Hz)')\n",
        "ax4.set_ylabel('MDVP:Flo(Hz)')\n",
        "\n",
        "ax5.set_title('Parkinsonn dataset')\n",
        "ax5.set_xlabel('MDVP:Fo(Hz)')\n",
        "ax5.set_ylabel('MDVP:Flo(Hz)')\n",
        "\n",
        "ax6.set_title('Parkinsonn dataset')\n",
        "ax6.set_xlabel('MDVP:Fo(Hz)')\n",
        "ax6.set_ylabel('MDVP:Flo(Hz)')\n",
        "\n",
        "ax7.set_title('Parkinsonn dataset')\n",
        "ax7.set_xlabel('MDVP:Fo(Hz)')\n",
        "ax7.set_ylabel('MDVP:Flo(Hz)')\n",
        "\n",
        "ax8.set_title('Parkinsonn dataset')\n",
        "ax8.set_xlabel('MDVP:Fo(Hz)')\n",
        "ax8.set_ylabel('MDVP:Flo(Hz)')"
      ],
      "execution_count": 0,
      "outputs": [
        {
          "output_type": "execute_result",
          "data": {
            "text/plain": [
              "Text(0, 0.5, 'MDVP:Flo(Hz)')"
            ]
          },
          "metadata": {
            "tags": []
          },
          "execution_count": 10
        },
        {
          "output_type": "display_data",
          "data": {
            "image/png": "[encoded data removed]",
            "text/plain": [
              "<Figure size 432x288 with 1 Axes>"
            ]
          },
          "metadata": {
            "tags": []
          }
        },
        {
          "output_type": "display_data",
          "data": {
            "image/png": "[encoded data removed]",
            "text/plain": [
              "<Figure size 432x288 with 1 Axes>"
            ]
          },
          "metadata": {
            "tags": []
          }
        },
        {
          "output_type": "display_data",
          "data": {
            "image/png": "[encoded data removed]",
            "text/plain": [
              "<Figure size 432x288 with 1 Axes>"
            ]
          },
          "metadata": {
            "tags": []
          }
        },
        {
          "output_type": "display_data",
          "data": {
            "image/png": "[encoded data removed]",
            "text/plain": [
              "<Figure size 432x288 with 1 Axes>"
            ]
          },
          "metadata": {
            "tags": []
          }
        },
        {
          "output_type": "display_data",
          "data": {
            "image/png": "[encoded data removed]",
            "text/plain": [
              "<Figure size 432x288 with 1 Axes>"
            ]
          },
          "metadata": {
            "tags": []
          }
        },
        {
          "output_type": "display_data",
          "data": {
            "image/png": "[encoded data removed]",
            "text/plain": [
              "<Figure size 432x288 with 1 Axes>"
            ]
          },
          "metadata": {
            "tags": []
          }
        },
        {
          "output_type": "display_data",
          "data": {
            "image/png": "[encoded data removed]",
            "text/plain": [
              "<Figure size 432x288 with 1 Axes>"
            ]
          },
          "metadata": {
            "tags": []
          }
        },
        {
          "output_type": "display_data",
          "data": {
            "image/png": "[encoded data removed]",
            "text/plain": [
              "<Figure size 432x288 with 1 Axes>"
            ]
          },
          "metadata": {
            "tags": []
          }
        }
      ]
    },
    {
      "cell_type": "markdown",
      "metadata": {
        "id": "prPz_TArB2LF",
        "colab_type": "text"
      },
      "source": [
        "## Using correlation to determine which features to keep"
      ]
    },
    {
      "cell_type": "code",
      "metadata": {
        "id": "NqL2fhGMA2dm",
        "colab_type": "code",
        "colab": {}
      },
      "source": [
        "corr = parkinson_data.corr()"
      ],
      "execution_count": 0,
      "outputs": []
    },
    {
      "cell_type": "code",
      "metadata": {
        "id": "RYI51MYACShc",
        "colab_type": "code",
        "outputId": "957a98a3-a281-4ee2-d8fa-8112bdafec14",
        "colab": {
          "base_uri": "https://localhost:8080/",
          "height": 376
        }
      },
      "source": [
        "sns.heatmap(corr)"
      ],
      "execution_count": 0,
      "outputs": [
        {
          "output_type": "execute_result",
          "data": {
            "text/plain": [
              "<matplotlib.axes._subplots.AxesSubplot at 0x7f3774fafef0>"
            ]
          },
          "metadata": {
            "tags": []
          },
          "execution_count": 12
        },
        {
          "output_type": "display_data",
          "data": {
            "image/png": "[encoded data removed]",
            "text/plain": [
              "<Figure size 432x288 with 2 Axes>"
            ]
          },
          "metadata": {
            "tags": []
          }
        }
      ]
    },
    {
      "cell_type": "code",
      "metadata": {
        "id": "FTm3XjqNCVY1",
        "colab_type": "code",
        "outputId": "a7c5df19-9fec-4aba-870d-fa6c8ffa85a0",
        "colab": {
          "base_uri": "https://localhost:8080/",
          "height": 664
        }
      },
      "source": [
        "#https://seaborn.pydata.org/examples/many_pairwise_correlations.html\n",
        "# a better visual representation of the correlation found within the dataset\n",
        "# Generate a mask for the upper triangle\n",
        "mask = np.triu(np.ones_like(corr, dtype=np.bool))\n",
        "\n",
        "# Set up the matplotlib figure\n",
        "f0, ax0 = plt.subplots(figsize=(11, 9))\n",
        "\n",
        "# Generate a custom diverging colormap\n",
        "cmap = sns.diverging_palette(220, 10, as_cmap=True)\n",
        "\n",
        "# Draw the heatmap with the mask and correct aspect ratio\n",
        "sns.heatmap(corr, mask=mask, cmap=cmap, vmax=.3, center=0,\n",
        "            square=True, linewidths=.5, cbar_kws={\"shrink\": .5})"
      ],
      "execution_count": 0,
      "outputs": [
        {
          "output_type": "execute_result",
          "data": {
            "text/plain": [
              "<matplotlib.axes._subplots.AxesSubplot at 0x7f376f89c8d0>"
            ]
          },
          "metadata": {
            "tags": []
          },
          "execution_count": 13
        },
        {
          "output_type": "display_data",
          "data": {
            "image/png": "[encoded data removed]",
            "text/plain": [
              "<Figure size 792x648 with 2 Axes>"
            ]
          },
          "metadata": {
            "tags": []
          }
        }
      ]
    },
    {
      "cell_type": "code",
      "metadata": {
        "id": "ne_cAc4oCdzy",
        "colab_type": "code",
        "colab": {}
      },
      "source": [
        "columns = np.full((corr.shape[0],), True, dtype=bool)\n",
        "for i in range(corr.shape[0]):\n",
        "    for j in range(i+1, corr.shape[0]):\n",
        "        if corr.iloc[i,j] >= 0.9:\n",
        "            if columns[j]:\n",
        "                columns[j] = False\n",
        "#removing column 1\n",
        "data = parkinson_data.drop(columns=\"name\")\n",
        "selected_columns = data.columns[columns]\n",
        "data = data[selected_columns]"
      ],
      "execution_count": 0,
      "outputs": []
    },
    {
      "cell_type": "code",
      "metadata": {
        "id": "TwR8L8nPDp4D",
        "colab_type": "code",
        "colab": {}
      },
      "source": [
        "selected_columns = selected_columns[: len(selected_columns) - 1].values"
      ],
      "execution_count": 0,
      "outputs": []
    },
    {
      "cell_type": "code",
      "metadata": {
        "id": "kTPhibXZD1J-",
        "colab_type": "code",
        "outputId": "8c89ff8e-563e-4967-8f12-2d9801214789",
        "colab": {
          "base_uri": "https://localhost:8080/",
          "height": 35
        }
      },
      "source": [
        "corr.shape"
      ],
      "execution_count": 0,
      "outputs": [
        {
          "output_type": "execute_result",
          "data": {
            "text/plain": [
              "(23, 23)"
            ]
          },
          "metadata": {
            "tags": []
          },
          "execution_count": 16
        }
      ]
    },
    {
      "cell_type": "code",
      "metadata": {
        "id": "50Ge6-tKCzv9",
        "colab_type": "code",
        "colab": {}
      },
      "source": [
        "import statsmodels.api as sm\n",
        "def backwardElimination(x, Y, sl, columns):\n",
        "    numVars = len(x[0])\n",
        "    for i in range(0, numVars):\n",
        "        # regressor_OLS = sm.OLS(Y, x).fit()\n",
        "        regressor_OLS = sm.OLS(endog=Y, exog=x).fit()\n",
        "        maxVar = max(regressor_OLS.pvalues).astype(float)\n",
        "        if maxVar > sl:\n",
        "            for j in range(0, numVars - i):\n",
        "                if (regressor_OLS.pvalues[j].astype(float) == maxVar):\n",
        "                    x = np.delete(x, j, 1)\n",
        "                    columns = np.delete(columns, j)\n",
        "                    \n",
        "    regressor_OLS.summary()\n",
        "    return x, columns\n",
        "SL = 0.05\n",
        "data_modeled, selected_columns = backwardElimination(data.iloc[:,:len(data.columns) - 1].values, data.iloc[:,len(data.columns) - 1].values, SL, selected_columns)"
      ],
      "execution_count": 0,
      "outputs": []
    },
    {
      "cell_type": "code",
      "metadata": {
        "id": "NpKgiSSODDht",
        "colab_type": "code",
        "colab": {}
      },
      "source": [
        "result = pd.DataFrame()\n",
        "result['status'] = data.iloc[:,len(data.columns) - 1]"
      ],
      "execution_count": 0,
      "outputs": []
    },
    {
      "cell_type": "code",
      "metadata": {
        "id": "nCipjj-3HF-l",
        "colab_type": "code",
        "outputId": "aec8e133-bdb2-4993-e9ee-ae59b24e7152",
        "colab": {
          "base_uri": "https://localhost:8080/",
          "height": 204
        }
      },
      "source": [
        "result.head()"
      ],
      "execution_count": 0,
      "outputs": [
        {
          "output_type": "execute_result",
          "data": {
            "text/html": [
              "<div>\n",
              "<style scoped>\n",
              "    .dataframe tbody tr th:only-of-type {\n",
              "        vertical-align: middle;\n",
              "    }\n",
              "\n",
              "    .dataframe tbody tr th {\n",
              "        vertical-align: top;\n",
              "    }\n",
              "\n",
              "    .dataframe thead th {\n",
              "        text-align: right;\n",
              "    }\n",
              "</style>\n",
              "<table border=\"1\" class=\"dataframe\">\n",
              "  <thead>\n",
              "    <tr style=\"text-align: right;\">\n",
              "      <th></th>\n",
              "      <th>status</th>\n",
              "    </tr>\n",
              "  </thead>\n",
              "  <tbody>\n",
              "    <tr>\n",
              "      <th>0</th>\n",
              "      <td>1</td>\n",
              "    </tr>\n",
              "    <tr>\n",
              "      <th>1</th>\n",
              "      <td>1</td>\n",
              "    </tr>\n",
              "    <tr>\n",
              "      <th>2</th>\n",
              "      <td>1</td>\n",
              "    </tr>\n",
              "    <tr>\n",
              "      <th>3</th>\n",
              "      <td>1</td>\n",
              "    </tr>\n",
              "    <tr>\n",
              "      <th>4</th>\n",
              "      <td>1</td>\n",
              "    </tr>\n",
              "  </tbody>\n",
              "</table>\n",
              "</div>"
            ],
            "text/plain": [
              "   status\n",
              "0       1\n",
              "1       1\n",
              "2       1\n",
              "3       1\n",
              "4       1"
            ]
          },
          "metadata": {
            "tags": []
          },
          "execution_count": 19
        }
      ]
    },
    {
      "cell_type": "code",
      "metadata": {
        "id": "uKry5lNfHIlF",
        "colab_type": "code",
        "colab": {}
      },
      "source": [
        "data = pd.DataFrame(data = data_modeled, columns = selected_columns)"
      ],
      "execution_count": 0,
      "outputs": []
    },
    {
      "cell_type": "code",
      "metadata": {
        "id": "1gxrhnn5HYP_",
        "colab_type": "code",
        "colab": {}
      },
      "source": [
        "corr = data.corr()"
      ],
      "execution_count": 0,
      "outputs": []
    },
    {
      "cell_type": "code",
      "metadata": {
        "id": "KHH32-jQHMix",
        "colab_type": "code",
        "outputId": "bfa60b4e-01a8-4ec0-f902-91f61fa55d18",
        "colab": {
          "base_uri": "https://localhost:8080/",
          "height": 555
        }
      },
      "source": [
        "# Generate a mask for the upper triangle\n",
        "mask = np.triu(np.ones_like(corr, dtype=np.bool))\n",
        "\n",
        "# Set up the matplotlib figure\n",
        "f0, ax0 = plt.subplots(figsize=(11, 9))\n",
        "\n",
        "# Generate a custom diverging colormap\n",
        "cmap = sns.diverging_palette(220, 10, as_cmap=True)\n",
        "\n",
        "# Draw the heatmap with the mask and correct aspect ratio\n",
        "sns.heatmap(corr, mask=mask, cmap=cmap, vmax=.3, center=0,\n",
        "            square=True, linewidths=.5, cbar_kws={\"shrink\": .5})"
      ],
      "execution_count": 0,
      "outputs": [
        {
          "output_type": "execute_result",
          "data": {
            "text/plain": [
              "<matplotlib.axes._subplots.AxesSubplot at 0x7f376f793be0>"
            ]
          },
          "metadata": {
            "tags": []
          },
          "execution_count": 22
        },
        {
          "output_type": "display_data",
          "data": {
            "image/png": "[encoded data removed]",
            "text/plain": [
              "<Figure size 792x648 with 2 Axes>"
            ]
          },
          "metadata": {
            "tags": []
          }
        }
      ]
    },
    {
      "cell_type": "code",
      "metadata": {
        "id": "p9qbf-Y8HTk-",
        "colab_type": "code",
        "outputId": "9837bb33-62ac-4bd4-db5f-06a3088eb27d",
        "colab": {
          "base_uri": "https://localhost:8080/",
          "height": 676
        }
      },
      "source": [
        "fig = plt.figure(figsize = (20, 25))\n",
        "j = 0\n",
        "for i in data.columns:\n",
        "    plt.subplot(6, 4, j+1)\n",
        "    j += 1\n",
        "    sns.distplot(data[i][result['status']==0], color='g', label = '0')\n",
        "    sns.distplot(data[i][result['status']==1], color='r', label = '1')\n",
        "    plt.legend(loc='best')\n",
        "fig.suptitle('Parkinson data analysis')\n",
        "fig.tight_layout()\n",
        "fig.subplots_adjust(top=0.95)\n",
        "plt.show()"
      ],
      "execution_count": 0,
      "outputs": [
        {
          "output_type": "display_data",
          "data": {
            "image/png": "[encoded data removed]",
            "text/plain": [
              "<Figure size 1440x1800 with 5 Axes>"
            ]
          },
          "metadata": {
            "tags": []
          }
        }
      ]
    },
    {
      "cell_type": "markdown",
      "metadata": {
        "id": "84IhpKaWNeZY",
        "colab_type": "text"
      },
      "source": [
        "##Training time - Logistic Regression"
      ]
    },
    {
      "cell_type": "code",
      "metadata": {
        "id": "cTWBMxW_zi73",
        "colab_type": "code",
        "colab": {}
      },
      "source": [
        "#from google.colab import files"
      ],
      "execution_count": 0,
      "outputs": []
    },
    {
      "cell_type": "code",
      "metadata": {
        "id": "n6jiABV7zkT9",
        "colab_type": "code",
        "outputId": "54e283c0-0b5f-41d8-9ce3-9b9aa67f1f18",
        "colab": {
          "base_uri": "https://localhost:8080/",
          "height": 35
        }
      },
      "source": [
        "!ls"
      ],
      "execution_count": 0,
      "outputs": [
        {
          "output_type": "stream",
          "text": [
            "sample_data\n"
          ],
          "name": "stdout"
        }
      ]
    },
    {
      "cell_type": "code",
      "metadata": {
        "id": "elSZovknzkhN",
        "colab_type": "code",
        "colab": {}
      },
      "source": [
        "# !rm 'lda (1).py'"
      ],
      "execution_count": 0,
      "outputs": []
    },
    {
      "cell_type": "code",
      "metadata": {
        "id": "ai-ShdRo2wpV",
        "colab_type": "code",
        "outputId": "60c59cf6-e117-4f70-f8fe-423187923d8e",
        "colab": {
          "resources": {
            "http://localhost:8080/nbextensions/google.colab/files.js": {
              "data": "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",
              "ok": true,
              "headers": [
                [
                  "content-type",
                  "application/javascript"
                ]
              ],
              "status": 200,
              "status_text": ""
            }
          },
          "base_uri": "https://localhost:8080/",
          "height": 75
        }
      },
      "source": [
        "#src_logistic_reg = list(files.upload().values())[0]"
      ],
      "execution_count": 0,
      "outputs": [
        {
          "output_type": "display_data",
          "data": {
            "text/html": [
              "\n",
              "     <input type=\"file\" id=\"files-12f7aee4-d71e-4e1b-88b5-7dd87feada8b\" name=\"files[]\" multiple disabled />\n",
              "     <output id=\"result-12f7aee4-d71e-4e1b-88b5-7dd87feada8b\">\n",
              "      Upload widget is only available when the cell has been executed in the\n",
              "      current browser session. Please rerun this cell to enable.\n",
              "      </output>\n",
              "      <script src=\"/nbextensions/google.colab/files.js\"></script> "
            ],
            "text/plain": [
              "<IPython.core.display.HTML object>"
            ]
          },
          "metadata": {
            "tags": []
          }
        },
        {
          "output_type": "stream",
          "text": [
            "Saving logisticregression.py to logisticregression.py\n"
          ],
          "name": "stdout"
        }
      ]
    },
    {
      "cell_type": "code",
      "metadata": {
        "id": "OVWtGEYAFaSW",
        "colab_type": "code",
        "outputId": "d38d00b4-4bdb-45f2-b9be-2ce209de9605",
        "colab": {
          "resources": {
            "http://localhost:8080/nbextensions/google.colab/files.js": {
              "data": "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",
              "ok": true,
              "headers": [
                [
                  "content-type",
                  "application/javascript"
                ]
              ],
              "status": 200,
              "status_text": ""
            }
          },
          "base_uri": "https://localhost:8080/",
          "height": 75
        }
      },
      "source": [
        "#src_kfold = list(files.upload().values())[0]"
      ],
      "execution_count": 0,
      "outputs": [
        {
          "output_type": "display_data",
          "data": {
            "text/html": [
              "\n",
              "     <input type=\"file\" id=\"files-f950505e-45c4-4c6a-9157-f7c233376c13\" name=\"files[]\" multiple disabled />\n",
              "     <output id=\"result-f950505e-45c4-4c6a-9157-f7c233376c13\">\n",
              "      Upload widget is only available when the cell has been executed in the\n",
              "      current browser session. Please rerun this cell to enable.\n",
              "      </output>\n",
              "      <script src=\"/nbextensions/google.colab/files.js\"></script> "
            ],
            "text/plain": [
              "<IPython.core.display.HTML object>"
            ]
          },
          "metadata": {
            "tags": []
          }
        },
        {
          "output_type": "stream",
          "text": [
            "Saving kfold.py to kfold.py\n"
          ],
          "name": "stdout"
        }
      ]
    },
    {
      "cell_type": "code",
      "metadata": {
        "id": "F8wk4IPVKRWO",
        "colab_type": "code",
        "colab": {}
      },
      "source": [
        "open('logisticregression.py','wb').write(src_logistic_reg)\n",
        "import logisticregression as lgor"
      ],
      "execution_count": 0,
      "outputs": []
    },
    {
      "cell_type": "code",
      "metadata": {
        "id": "aojygova1LBj",
        "colab_type": "code",
        "colab": {}
      },
      "source": [
        "open('kfold.py','wb').write(src_kfold)\n",
        "import kfold as my_kf"
      ],
      "execution_count": 0,
      "outputs": []
    },
    {
      "cell_type": "code",
      "metadata": {
        "id": "laU83PsoH3-L",
        "colab_type": "code",
        "colab": {}
      },
      "source": [
        "X = np.float128(data.iloc[:,:].values)\n",
        "y = parkinson_data[\"status\"].values\n",
        "\n",
        "X_no_shuffle = np.float128(data.iloc[:,:].values)\n",
        "y_no_shuffle = parkinson_data[\"status\"].values"
      ],
      "execution_count": 0,
      "outputs": []
    },
    {
      "cell_type": "code",
      "metadata": {
        "id": "MvMIJOACtqPV",
        "colab_type": "code",
        "colab": {}
      },
      "source": [
        "from sklearn.utils import shuffle\n",
        "X, y = shuffle(X, y)"
      ],
      "execution_count": 0,
      "outputs": []
    },
    {
      "cell_type": "code",
      "metadata": {
        "id": "eXLckKh3YW0j",
        "colab_type": "code",
        "colab": {}
      },
      "source": [
        "train_indexes, test_indexes = None, None"
      ],
      "execution_count": 0,
      "outputs": []
    },
    {
      "cell_type": "code",
      "metadata": {
        "id": "SqChbZEBd6f-",
        "colab_type": "code",
        "colab": {}
      },
      "source": [
        "from sklearn import preprocessing\n",
        "X = preprocessing.normalize(X)\n",
        "X_no_shuffle = preprocessing.normalize(X_no_shuffle)"
      ],
      "execution_count": 0,
      "outputs": []
    },
    {
      "cell_type": "code",
      "metadata": {
        "id": "C4ySUGe1-te_",
        "colab_type": "code",
        "colab": {}
      },
      "source": [
        "learning_rates = [0.000001, 0.00001, 0.0001, 0.001, 0.01, 0.1]\n",
        "thresholding = 0.5\n",
        "num_iter = 300000"
      ],
      "execution_count": 0,
      "outputs": []
    },
    {
      "cell_type": "code",
      "metadata": {
        "id": "aG_fUtAvDURH",
        "colab_type": "code",
        "colab": {}
      },
      "source": [
        "kf_split = my_kf.KFold(n_splits=10)\n",
        "cross_val_indexes = list(kf_split.split(y))"
      ],
      "execution_count": 0,
      "outputs": []
    },
    {
      "cell_type": "code",
      "metadata": {
        "id": "yPU_c2t8FPcj",
        "colab_type": "code",
        "outputId": "f79310a9-d2b2-4518-8dd5-e1553c2738cc",
        "colab": {
          "base_uri": "https://localhost:8080/",
          "height": 1000
        }
      },
      "source": [
        "\n",
        "print('         Shuffled data')\n",
        "scores_logistic = []\n",
        "for lr in learning_rates:\n",
        "    print(f'Learning rate: {lr}')\n",
        "    scores = []\n",
        "    losses = []\n",
        "    model = lgor.LogisticRegression(learningRate=lr, num_iter=num_iter)\n",
        "    %timeit\n",
        "    for index, (train, test) in enumerate(cross_val_indexes):\n",
        "        print(f'Fold {index + 1}')\n",
        "        train_x = np.column_stack([np.take(X[:,i], train) for i in range(0, X.shape[1])])\n",
        "        train_y = np.take(y, train)\n",
        "        print('Training......')\n",
        "        %time loss = model.fit(train_x, train_y)\n",
        "\n",
        "        test_x = np.column_stack([np.take(X[:,i], test) for i in range(0, X.shape[1])])\n",
        "        test_y = np.take(y, test)\n",
        "\n",
        "        print('Testing......')\n",
        "        %time accuracy = model.accu_eval(model.predict(test_x, 0.5), test_y)\n",
        "        print(f'Accuracy: {accuracy}')\n",
        "        scores.append(accuracy)\n",
        "        losses.append(loss)\n",
        "    scores_logistic.append({\n",
        "        'learning_rate': lr,\n",
        "        'scores' : scores,\n",
        "        'loss' : losses\n",
        "    })\n",
        "    print('--------------------------------------------------------------------')"
      ],
      "execution_count": 0,
      "outputs": [
        {
          "output_type": "stream",
          "text": [
            "         Shuffled data\n",
            "Learning rate: 1e-06\n",
            "Fold 1\n",
            "Training......\n",
            "loss : 0.6636280745082611 \t\n",
            "CPU times: user 6.31 s, sys: 27 ms, total: 6.33 s\n",
            "Wall time: 6.35 s\n",
            "Testing......\n",
            "CPU times: user 108 µs, sys: 1 µs, total: 109 µs\n",
            "Wall time: 112 µs\n",
            "Accuracy: 89.47368421052632\n",
            "Fold 2\n",
            "Training......\n",
            "loss : 0.6577369052988318 \t\n",
            "CPU times: user 6.13 s, sys: 31 ms, total: 6.17 s\n",
            "Wall time: 6.17 s\n",
            "Testing......\n",
            "CPU times: user 197 µs, sys: 2 µs, total: 199 µs\n",
            "Wall time: 142 µs\n",
            "Accuracy: 68.42105263157895\n",
            "Fold 3\n",
            "Training......\n",
            "loss : 0.6650164425017441 \t\n",
            "CPU times: user 6.14 s, sys: 28 ms, total: 6.17 s\n",
            "Wall time: 6.17 s\n",
            "Testing......\n",
            "CPU times: user 0 ns, sys: 96 µs, total: 96 µs\n",
            "Wall time: 99.2 µs\n",
            "Accuracy: 94.73684210526315\n",
            "Fold 4\n",
            "Training......\n",
            "loss : 0.663628186212403 \t\n",
            "CPU times: user 6.19 s, sys: 30 ms, total: 6.22 s\n",
            "Wall time: 6.23 s\n",
            "Testing......\n",
            "CPU times: user 91 µs, sys: 1e+03 ns, total: 92 µs\n",
            "Wall time: 95.8 µs\n",
            "Accuracy: 89.47368421052632\n",
            "Fold 5\n",
            "Training......\n",
            "loss : 0.6545904993281216 \t\n",
            "CPU times: user 5.88 s, sys: 28 ms, total: 5.91 s\n",
            "Wall time: 5.91 s\n",
            "Testing......\n",
            "CPU times: user 108 µs, sys: 0 ns, total: 108 µs\n",
            "Wall time: 112 µs\n",
            "Accuracy: 57.89473684210527\n",
            "Fold 6\n",
            "Training......\n",
            "loss : 0.6592594562440109 \t\n",
            "CPU times: user 6.22 s, sys: 40 ms, total: 6.26 s\n",
            "Wall time: 6.27 s\n",
            "Testing......\n",
            "CPU times: user 97 µs, sys: 1 µs, total: 98 µs\n",
            "Wall time: 101 µs\n",
            "Accuracy: 73.68421052631578\n",
            "Fold 7\n",
            "Training......\n",
            "loss : 0.6592592171895331 \t\n",
            "CPU times: user 6.21 s, sys: 24 ms, total: 6.23 s\n",
            "Wall time: 6.23 s\n",
            "Testing......\n",
            "CPU times: user 96 µs, sys: 1 µs, total: 97 µs\n",
            "Wall time: 100 µs\n",
            "Accuracy: 73.68421052631578\n",
            "Fold 8\n",
            "Training......\n",
            "loss : 0.6607490647869315 \t\n",
            "CPU times: user 6.2 s, sys: 26 ms, total: 6.23 s\n",
            "Wall time: 6.23 s\n",
            "Testing......\n",
            "CPU times: user 95 µs, sys: 2 µs, total: 97 µs\n",
            "Wall time: 98.9 µs\n",
            "Accuracy: 78.94736842105263\n",
            "Fold 9\n",
            "Training......\n",
            "loss : 0.6545901122381348 \t\n",
            "CPU times: user 6.25 s, sys: 34 ms, total: 6.28 s\n",
            "Wall time: 6.29 s\n",
            "Testing......\n",
            "CPU times: user 97 µs, sys: 0 ns, total: 97 µs\n",
            "Wall time: 101 µs\n",
            "Accuracy: 57.89473684210527\n",
            "Fold 10\n",
            "Training......\n",
            "loss : 0.6580422042284169 \t\n",
            "CPU times: user 6.13 s, sys: 31 ms, total: 6.16 s\n",
            "Wall time: 6.17 s\n",
            "Testing......\n",
            "CPU times: user 0 ns, sys: 253 µs, total: 253 µs\n",
            "Wall time: 242 µs\n",
            "Accuracy: 70.83333333333334\n",
            "--------------------------------------------------------------------\n",
            "Learning rate: 1e-05\n",
            "Fold 1\n",
            "Training......\n",
            "loss : 0.5825959273438416 \t\n",
            "CPU times: user 6.17 s, sys: 24 ms, total: 6.19 s\n",
            "Wall time: 6.21 s\n",
            "Testing......\n",
            "CPU times: user 99 µs, sys: 1 µs, total: 100 µs\n",
            "Wall time: 104 µs\n",
            "Accuracy: 89.47368421052632\n",
            "Fold 2\n",
            "Training......\n",
            "loss : 0.5599739680947037 \t\n",
            "CPU times: user 6.11 s, sys: 36 ms, total: 6.14 s\n",
            "Wall time: 6.15 s\n",
            "Testing......\n",
            "CPU times: user 110 µs, sys: 0 ns, total: 110 µs\n",
            "Wall time: 113 µs\n",
            "Accuracy: 68.42105263157895\n",
            "Fold 3\n",
            "Training......\n",
            "loss : 0.5879006162059542 \t\n",
            "CPU times: user 6.11 s, sys: 32 ms, total: 6.14 s\n",
            "Wall time: 6.14 s\n",
            "Testing......\n",
            "CPU times: user 112 µs, sys: 1e+03 ns, total: 113 µs\n",
            "Wall time: 117 µs\n",
            "Accuracy: 94.73684210526315\n",
            "Fold 4\n",
            "Training......\n",
            "loss : 0.5825963161529711 \t\n",
            "CPU times: user 6.06 s, sys: 26 ms, total: 6.09 s\n",
            "Wall time: 6.1 s\n",
            "Testing......\n",
            "CPU times: user 95 µs, sys: 1e+03 ns, total: 96 µs\n",
            "Wall time: 100 µs\n",
            "Accuracy: 89.47368421052632\n",
            "Fold 5\n",
            "Training......\n",
            "loss : 0.5478151206525174 \t\n",
            "CPU times: user 5.96 s, sys: 28 ms, total: 5.99 s\n",
            "Wall time: 5.99 s\n",
            "Testing......\n",
            "CPU times: user 221 µs, sys: 3 µs, total: 224 µs\n",
            "Wall time: 193 µs\n",
            "Accuracy: 57.89473684210527\n",
            "Fold 6\n",
            "Training......\n",
            "loss : 0.5658386776954512 \t\n",
            "CPU times: user 6.19 s, sys: 30.9 ms, total: 6.22 s\n",
            "Wall time: 6.24 s\n",
            "Testing......\n",
            "CPU times: user 171 µs, sys: 0 ns, total: 171 µs\n",
            "Wall time: 140 µs\n",
            "Accuracy: 73.68421052631578\n",
            "Fold 7\n",
            "Training......\n",
            "loss : 0.5658386937351279 \t\n",
            "CPU times: user 6.13 s, sys: 28 ms, total: 6.15 s\n",
            "Wall time: 6.16 s\n",
            "Testing......\n",
            "CPU times: user 180 µs, sys: 3 µs, total: 183 µs\n",
            "Wall time: 152 µs\n",
            "Accuracy: 73.68421052631578\n",
            "Fold 8\n",
            "Training......\n",
            "loss : 0.5715643828337292 \t\n",
            "CPU times: user 6.08 s, sys: 39 ms, total: 6.12 s\n",
            "Wall time: 6.12 s\n",
            "Testing......\n",
            "CPU times: user 178 µs, sys: 3 µs, total: 181 µs\n",
            "Wall time: 149 µs\n",
            "Accuracy: 78.94736842105263\n",
            "Fold 9\n",
            "Training......\n",
            "loss : 0.5478115940969239 \t\n",
            "CPU times: user 6.09 s, sys: 47 ms, total: 6.14 s\n",
            "Wall time: 6.14 s\n",
            "Testing......\n",
            "CPU times: user 166 µs, sys: 2 µs, total: 168 µs\n",
            "Wall time: 139 µs\n",
            "Accuracy: 57.89473684210527\n",
            "Fold 10\n",
            "Training......\n",
            "loss : 0.5611490370902699 \t\n",
            "CPU times: user 6.13 s, sys: 34 ms, total: 6.17 s\n",
            "Wall time: 6.17 s\n",
            "Testing......\n",
            "CPU times: user 218 µs, sys: 0 ns, total: 218 µs\n",
            "Wall time: 141 µs\n",
            "Accuracy: 70.83333333333334\n",
            "--------------------------------------------------------------------\n",
            "Learning rate: 0.0001\n",
            "Fold 1\n",
            "Training......\n",
            "loss : 0.57441820276686 \t\n",
            "CPU times: user 6.17 s, sys: 23 ms, total: 6.19 s\n",
            "Wall time: 6.2 s\n",
            "Testing......\n",
            "CPU times: user 102 µs, sys: 1 µs, total: 103 µs\n",
            "Wall time: 107 µs\n",
            "Accuracy: 89.47368421052632\n",
            "Fold 2\n",
            "Training......\n",
            "loss : 0.5494497688087585 \t\n",
            "CPU times: user 6.2 s, sys: 27 ms, total: 6.23 s\n",
            "Wall time: 6.23 s\n",
            "Testing......\n",
            "CPU times: user 174 µs, sys: 1 µs, total: 175 µs\n",
            "Wall time: 140 µs\n",
            "Accuracy: 68.42105263157895\n",
            "Fold 3\n",
            "Training......\n",
            "loss : 0.5802350707890569 \t\n",
            "CPU times: user 6.18 s, sys: 25 ms, total: 6.21 s\n",
            "Wall time: 6.21 s\n",
            "Testing......\n",
            "CPU times: user 96 µs, sys: 0 ns, total: 96 µs\n",
            "Wall time: 99.2 µs\n",
            "Accuracy: 94.73684210526315\n",
            "Fold 4\n",
            "Training......\n",
            "loss : 0.5744129409616247 \t\n",
            "CPU times: user 6 s, sys: 25 ms, total: 6.03 s\n",
            "Wall time: 6.04 s\n",
            "Testing......\n",
            "CPU times: user 265 µs, sys: 3 µs, total: 268 µs\n",
            "Wall time: 234 µs\n",
            "Accuracy: 89.47368421052632\n",
            "Fold 5\n",
            "Training......\n",
            "loss : 0.5359079651960302 \t\n",
            "CPU times: user 6.11 s, sys: 28.1 ms, total: 6.14 s\n",
            "Wall time: 6.15 s\n",
            "Testing......\n",
            "CPU times: user 98 µs, sys: 1 µs, total: 99 µs\n",
            "Wall time: 101 µs\n",
            "Accuracy: 57.89473684210527\n",
            "Fold 6\n",
            "Training......\n",
            "loss : 0.5559494310377705 \t\n",
            "CPU times: user 6.25 s, sys: 27 ms, total: 6.28 s\n",
            "Wall time: 6.28 s\n",
            "Testing......\n",
            "CPU times: user 166 µs, sys: 2 µs, total: 168 µs\n",
            "Wall time: 153 µs\n",
            "Accuracy: 73.68421052631578\n",
            "Fold 7\n",
            "Training......\n",
            "loss : 0.5559512296866513 \t\n",
            "CPU times: user 6.19 s, sys: 30 ms, total: 6.22 s\n",
            "Wall time: 6.22 s\n",
            "Testing......\n",
            "CPU times: user 187 µs, sys: 0 ns, total: 187 µs\n",
            "Wall time: 147 µs\n",
            "Accuracy: 73.68421052631578\n",
            "Fold 8\n",
            "Training......\n",
            "loss : 0.5622763692308491 \t\n",
            "CPU times: user 6.16 s, sys: 42 ms, total: 6.2 s\n",
            "Wall time: 6.2 s\n",
            "Testing......\n",
            "CPU times: user 207 µs, sys: 2 µs, total: 209 µs\n",
            "Wall time: 176 µs\n",
            "Accuracy: 78.94736842105263\n",
            "Fold 9\n",
            "Training......\n",
            "loss : 0.5358912193238043 \t\n",
            "CPU times: user 6.15 s, sys: 27 ms, total: 6.18 s\n",
            "Wall time: 6.18 s\n",
            "Testing......\n",
            "CPU times: user 177 µs, sys: 2 µs, total: 179 µs\n",
            "Wall time: 147 µs\n",
            "Accuracy: 57.89473684210527\n",
            "Fold 10\n",
            "Training......\n",
            "loss : 0.5507224593032661 \t\n",
            "CPU times: user 6.13 s, sys: 33 ms, total: 6.16 s\n",
            "Wall time: 6.17 s\n",
            "Testing......\n",
            "CPU times: user 692 µs, sys: 0 ns, total: 692 µs\n",
            "Wall time: 539 µs\n",
            "Accuracy: 70.83333333333334\n",
            "--------------------------------------------------------------------\n",
            "Learning rate: 0.001\n",
            "Fold 1\n",
            "Training......\n",
            "loss : 0.5738961003438312 \t\n",
            "CPU times: user 6.19 s, sys: 25 ms, total: 6.21 s\n",
            "Wall time: 6.21 s\n",
            "Testing......\n",
            "CPU times: user 176 µs, sys: 2 µs, total: 178 µs\n",
            "Wall time: 146 µs\n",
            "Accuracy: 89.47368421052632\n",
            "Fold 2\n",
            "Training......\n",
            "loss : 0.5490015888246738 \t\n",
            "CPU times: user 6.21 s, sys: 38 ms, total: 6.25 s\n",
            "Wall time: 6.24 s\n",
            "Testing......\n",
            "CPU times: user 165 µs, sys: 0 ns, total: 165 µs\n",
            "Wall time: 163 µs\n",
            "Accuracy: 68.42105263157895\n",
            "Fold 3\n",
            "Training......\n",
            "loss : 0.5797035681388141 \t\n",
            "CPU times: user 6.17 s, sys: 38 ms, total: 6.21 s\n",
            "Wall time: 6.22 s\n",
            "Testing......\n",
            "CPU times: user 183 µs, sys: 2 µs, total: 185 µs\n",
            "Wall time: 138 µs\n",
            "Accuracy: 94.73684210526315\n",
            "Fold 4\n",
            "Training......\n",
            "loss : 0.5738337033807774 \t\n",
            "CPU times: user 5.98 s, sys: 33 ms, total: 6.02 s\n",
            "Wall time: 6.02 s\n",
            "Testing......\n",
            "CPU times: user 176 µs, sys: 0 ns, total: 176 µs\n",
            "Wall time: 144 µs\n",
            "Accuracy: 89.47368421052632\n",
            "Fold 5\n",
            "Training......\n",
            "loss : 0.5354610000767763 \t\n",
            "CPU times: user 6.15 s, sys: 31 ms, total: 6.18 s\n",
            "Wall time: 6.2 s\n",
            "Testing......\n",
            "CPU times: user 207 µs, sys: 0 ns, total: 207 µs\n",
            "Wall time: 180 µs\n",
            "Accuracy: 57.89473684210527\n",
            "Fold 6\n",
            "Training......\n",
            "loss : 0.5554809060045186 \t\n",
            "CPU times: user 6.12 s, sys: 43 ms, total: 6.16 s\n",
            "Wall time: 6.16 s\n",
            "Testing......\n",
            "CPU times: user 180 µs, sys: 3 µs, total: 183 µs\n",
            "Wall time: 149 µs\n",
            "Accuracy: 73.68421052631578\n",
            "Fold 7\n",
            "Training......\n",
            "loss : 0.5554980162368192 \t\n",
            "CPU times: user 6.2 s, sys: 44 ms, total: 6.24 s\n",
            "Wall time: 6.24 s\n",
            "Testing......\n",
            "CPU times: user 170 µs, sys: 2 µs, total: 172 µs\n",
            "Wall time: 129 µs\n",
            "Accuracy: 73.68421052631578\n",
            "Fold 8\n",
            "Training......\n",
            "loss : 0.5617839880015381 \t\n",
            "CPU times: user 6.15 s, sys: 26 ms, total: 6.17 s\n",
            "Wall time: 6.17 s\n",
            "Testing......\n",
            "CPU times: user 174 µs, sys: 0 ns, total: 174 µs\n",
            "Wall time: 142 µs\n",
            "Accuracy: 78.94736842105263\n",
            "Fold 9\n",
            "Training......\n",
            "loss : 0.5353194720085974 \t\n",
            "CPU times: user 6.32 s, sys: 38 ms, total: 6.36 s\n",
            "Wall time: 6.36 s\n",
            "Testing......\n",
            "CPU times: user 341 µs, sys: 4 µs, total: 345 µs\n",
            "Wall time: 323 µs\n",
            "Accuracy: 57.89473684210527\n",
            "Fold 10\n",
            "Training......\n",
            "loss : 0.5499586804750526 \t\n",
            "CPU times: user 6.19 s, sys: 34.9 ms, total: 6.22 s\n",
            "Wall time: 6.25 s\n",
            "Testing......\n",
            "CPU times: user 0 ns, sys: 418 µs, total: 418 µs\n",
            "Wall time: 341 µs\n",
            "Accuracy: 70.83333333333334\n",
            "--------------------------------------------------------------------\n",
            "Learning rate: 0.01\n",
            "Fold 1\n",
            "Training......\n",
            "loss : 0.5688648129409214 \t\n",
            "CPU times: user 6.2 s, sys: 22 ms, total: 6.23 s\n",
            "Wall time: 6.23 s\n",
            "Testing......\n",
            "CPU times: user 177 µs, sys: 2 µs, total: 179 µs\n",
            "Wall time: 145 µs\n",
            "Accuracy: 89.47368421052632\n",
            "Fold 2\n",
            "Training......\n",
            "loss : 0.5446762741241504 \t\n",
            "CPU times: user 6.28 s, sys: 35 ms, total: 6.32 s\n",
            "Wall time: 6.32 s\n",
            "Testing......\n",
            "CPU times: user 183 µs, sys: 0 ns, total: 183 µs\n",
            "Wall time: 153 µs\n",
            "Accuracy: 68.42105263157895\n",
            "Fold 3\n",
            "Training......\n",
            "loss : 0.5745541944503253 \t\n",
            "CPU times: user 6.07 s, sys: 32 ms, total: 6.1 s\n",
            "Wall time: 6.1 s\n",
            "Testing......\n",
            "CPU times: user 170 µs, sys: 2 µs, total: 172 µs\n",
            "Wall time: 143 µs\n",
            "Accuracy: 94.73684210526315\n",
            "Fold 4\n",
            "Training......\n",
            "loss : 0.5683602576384231 \t\n",
            "CPU times: user 6.07 s, sys: 39 ms, total: 6.11 s\n",
            "Wall time: 6.11 s\n",
            "Testing......\n",
            "CPU times: user 166 µs, sys: 0 ns, total: 166 µs\n",
            "Wall time: 137 µs\n",
            "Accuracy: 89.47368421052632\n",
            "Fold 5\n",
            "Training......\n",
            "loss : 0.5312054585578166 \t\n",
            "CPU times: user 6.24 s, sys: 43 ms, total: 6.28 s\n",
            "Wall time: 6.3 s\n",
            "Testing......\n",
            "CPU times: user 117 µs, sys: 2 µs, total: 119 µs\n",
            "Wall time: 123 µs\n",
            "Accuracy: 57.89473684210527\n",
            "Fold 6\n",
            "Training......\n",
            "loss : 0.5509888659033823 \t\n",
            "CPU times: user 6.13 s, sys: 30 ms, total: 6.16 s\n",
            "Wall time: 6.16 s\n",
            "Testing......\n",
            "CPU times: user 192 µs, sys: 0 ns, total: 192 µs\n",
            "Wall time: 159 µs\n",
            "Accuracy: 73.68421052631578\n",
            "Fold 7\n",
            "Training......\n",
            "loss : 0.5511457111463487 \t\n",
            "CPU times: user 6.21 s, sys: 35 ms, total: 6.24 s\n",
            "Wall time: 6.24 s\n",
            "Testing......\n",
            "CPU times: user 184 µs, sys: 3 µs, total: 187 µs\n",
            "Wall time: 151 µs\n",
            "Accuracy: 73.68421052631578\n",
            "Fold 8\n",
            "Training......\n",
            "loss : 0.557052798513795 \t\n",
            "CPU times: user 6.18 s, sys: 28 ms, total: 6.2 s\n",
            "Wall time: 6.22 s\n",
            "Testing......\n",
            "CPU times: user 196 µs, sys: 3 µs, total: 199 µs\n",
            "Wall time: 165 µs\n",
            "Accuracy: 78.94736842105263\n",
            "Fold 9\n",
            "Training......\n",
            "loss : 0.5299271544020865 \t\n",
            "CPU times: user 6.23 s, sys: 32 ms, total: 6.26 s\n",
            "Wall time: 6.27 s\n",
            "Testing......\n",
            "CPU times: user 192 µs, sys: 2 µs, total: 194 µs\n",
            "Wall time: 143 µs\n",
            "Accuracy: 57.89473684210527\n",
            "Fold 10\n",
            "Training......\n",
            "loss : 0.5428903711242938 \t\n",
            "CPU times: user 6.15 s, sys: 29 ms, total: 6.18 s\n",
            "Wall time: 6.18 s\n",
            "Testing......\n",
            "CPU times: user 175 µs, sys: 2 µs, total: 177 µs\n",
            "Wall time: 147 µs\n",
            "Accuracy: 70.83333333333334\n",
            "--------------------------------------------------------------------\n",
            "Learning rate: 0.1\n",
            "Fold 1\n",
            "Training......\n",
            "loss : 0.5303139276943519 \t\n",
            "CPU times: user 6.32 s, sys: 17 ms, total: 6.33 s\n",
            "Wall time: 6.33 s\n",
            "Testing......\n",
            "CPU times: user 190 µs, sys: 3 µs, total: 193 µs\n",
            "Wall time: 159 µs\n",
            "Accuracy: 89.47368421052632\n",
            "Fold 2\n",
            "Training......\n",
            "loss : 0.5112146853993357 \t\n",
            "CPU times: user 6.26 s, sys: 22 ms, total: 6.28 s\n",
            "Wall time: 6.28 s\n",
            "Testing......\n",
            "CPU times: user 184 µs, sys: 2 µs, total: 186 µs\n",
            "Wall time: 153 µs\n",
            "Accuracy: 68.42105263157895\n",
            "Fold 3\n",
            "Training......\n",
            "loss : 0.5344157371519294 \t\n",
            "CPU times: user 6.16 s, sys: 28 ms, total: 6.19 s\n",
            "Wall time: 6.19 s\n",
            "Testing......\n",
            "CPU times: user 173 µs, sys: 0 ns, total: 173 µs\n",
            "Wall time: 143 µs\n",
            "Accuracy: 94.73684210526315\n",
            "Fold 4\n",
            "Training......\n",
            "loss : 0.5299724376360185 \t\n",
            "CPU times: user 6.13 s, sys: 33.9 ms, total: 6.16 s\n",
            "Wall time: 6.18 s\n",
            "Testing......\n",
            "CPU times: user 120 µs, sys: 0 ns, total: 120 µs\n",
            "Wall time: 125 µs\n",
            "Accuracy: 89.47368421052632\n",
            "Fold 5\n",
            "Training......\n",
            "loss : 0.5004931377826033 \t\n",
            "CPU times: user 6.19 s, sys: 25 ms, total: 6.22 s\n",
            "Wall time: 6.22 s\n",
            "Testing......\n",
            "CPU times: user 253 µs, sys: 3 µs, total: 256 µs\n",
            "Wall time: 274 µs\n",
            "Accuracy: 57.89473684210527\n",
            "Fold 6\n",
            "Training......\n",
            "loss : 0.5171415597435812 \t\n",
            "CPU times: user 6.32 s, sys: 36 ms, total: 6.36 s\n",
            "Wall time: 6.36 s\n",
            "Testing......\n",
            "CPU times: user 102 µs, sys: 1 µs, total: 103 µs\n",
            "Wall time: 106 µs\n",
            "Accuracy: 73.68421052631578\n",
            "Fold 7\n",
            "Training......\n",
            "loss : 0.518360911605738 \t\n",
            "CPU times: user 6.25 s, sys: 37 ms, total: 6.28 s\n",
            "Wall time: 6.29 s\n",
            "Testing......\n",
            "CPU times: user 180 µs, sys: 1 µs, total: 181 µs\n",
            "Wall time: 150 µs\n",
            "Accuracy: 73.68421052631578\n",
            "Fold 8\n",
            "Training......\n",
            "loss : 0.5213189204135035 \t\n",
            "CPU times: user 6.3 s, sys: 23 ms, total: 6.33 s\n",
            "Wall time: 6.33 s\n",
            "Testing......\n",
            "CPU times: user 172 µs, sys: 2 µs, total: 174 µs\n",
            "Wall time: 144 µs\n",
            "Accuracy: 78.94736842105263\n",
            "Fold 9\n",
            "Training......\n",
            "loss : 0.4927444683980778 \t\n",
            "CPU times: user 6.29 s, sys: 43.9 ms, total: 6.34 s\n",
            "Wall time: 6.35 s\n",
            "Testing......\n",
            "CPU times: user 105 µs, sys: 1 µs, total: 106 µs\n",
            "Wall time: 110 µs\n",
            "Accuracy: 57.89473684210527\n",
            "Fold 10\n",
            "Training......\n",
            "loss : 0.49924060789402197 \t\n",
            "CPU times: user 6.19 s, sys: 37.9 ms, total: 6.23 s\n",
            "Wall time: 6.24 s\n",
            "Testing......\n",
            "CPU times: user 101 µs, sys: 0 ns, total: 101 µs\n",
            "Wall time: 104 µs\n",
            "Accuracy: 70.83333333333334\n",
            "--------------------------------------------------------------------\n"
          ],
          "name": "stdout"
        }
      ]
    },
    {
      "cell_type": "code",
      "metadata": {
        "id": "La92Y1-SOcsv",
        "colab_type": "code",
        "outputId": "a8137aa9-a7ef-42e8-aa2c-49ff08b11d9a",
        "colab": {
          "base_uri": "https://localhost:8080/",
          "height": 1000
        }
      },
      "source": [
        "print('         Unshuffled data')\n",
        "scores_logistic_no_shuffle = []\n",
        "for lr in learning_rates:\n",
        "    print(f'Learning rate: {lr}')\n",
        "    scores = []\n",
        "    losses = []\n",
        "    model = lgor.LogisticRegression(learningRate=lr, num_iter=num_iter)\n",
        "    %timeit\n",
        "    for index, (train, test) in enumerate(cross_val_indexes):\n",
        "        print(f'Fold {index + 1}')\n",
        "        train_x = np.column_stack([np.take(X_no_shuffle[:,i], train) for i in range(0, X_no_shuffle.shape[1])])\n",
        "        train_y = np.take(y_no_shuffle, train)\n",
        "        print('Training......')\n",
        "        %time loss = model.fit(train_x, train_y)\n",
        "\n",
        "        test_x = np.column_stack([np.take(X_no_shuffle[:,i], test) for i in range(0, X_no_shuffle.shape[1])])\n",
        "        test_y = np.take(y_no_shuffle, test)\n",
        "\n",
        "        print('Testing......')\n",
        "        %time accuracy = model.accu_eval(model.predict(test_x, 0.5), test_y)\n",
        "        print(f'Accuracy: {accuracy}')\n",
        "        scores.append(accuracy)\n",
        "        losses.append(loss)\n",
        "    scores_logistic_no_shuffle.append({\n",
        "        'learning_rate': lr,\n",
        "        'scores' : scores,\n",
        "        'loss' : losses\n",
        "    })\n",
        "    print('--------------------------------------------------------------------')"
      ],
      "execution_count": 0,
      "outputs": [
        {
          "output_type": "stream",
          "text": [
            "         Unshuffled data\n",
            "Learning rate: 1e-06\n",
            "Fold 1\n",
            "Training......\n",
            "loss : 0.6663726428011876 \t\n",
            "CPU times: user 6.22 s, sys: 19 ms, total: 6.24 s\n",
            "Wall time: 6.24 s\n",
            "Testing......\n",
            "CPU times: user 189 µs, sys: 2 µs, total: 191 µs\n",
            "Wall time: 138 µs\n",
            "Accuracy: 100.0\n",
            "Fold 2\n",
            "Training......\n",
            "loss : 0.657736456915606 \t\n",
            "CPU times: user 6.18 s, sys: 36 ms, total: 6.21 s\n",
            "Wall time: 6.22 s\n",
            "Testing......\n",
            "CPU times: user 92 µs, sys: 1e+03 ns, total: 93 µs\n",
            "Wall time: 95.1 µs\n",
            "Accuracy: 68.42105263157895\n",
            "Fold 3\n",
            "Training......\n",
            "loss : 0.6478954756648464 \t\n",
            "CPU times: user 6.1 s, sys: 29 ms, total: 6.12 s\n",
            "Wall time: 6.13 s\n",
            "Testing......\n",
            "CPU times: user 102 µs, sys: 1 µs, total: 103 µs\n",
            "Wall time: 107 µs\n",
            "Accuracy: 36.84210526315789\n",
            "Fold 4\n",
            "Training......\n",
            "loss : 0.6577362124752993 \t\n",
            "CPU times: user 6.15 s, sys: 23.9 ms, total: 6.17 s\n",
            "Wall time: 6.18 s\n",
            "Testing......\n",
            "CPU times: user 194 µs, sys: 2 µs, total: 196 µs\n",
            "Wall time: 155 µs\n",
            "Accuracy: 68.42105263157895\n",
            "Fold 5\n",
            "Training......\n",
            "loss : 0.6663724350029177 \t\n",
            "CPU times: user 6.11 s, sys: 39 ms, total: 6.15 s\n",
            "Wall time: 6.15 s\n",
            "Testing......\n",
            "CPU times: user 191 µs, sys: 2 µs, total: 193 µs\n",
            "Wall time: 144 µs\n",
            "Accuracy: 100.0\n",
            "Fold 6\n",
            "Training......\n",
            "loss : 0.6663721522206069 \t\n",
            "CPU times: user 6.24 s, sys: 35 ms, total: 6.27 s\n",
            "Wall time: 6.27 s\n",
            "Testing......\n",
            "CPU times: user 193 µs, sys: 2 µs, total: 195 µs\n",
            "Wall time: 141 µs\n",
            "Accuracy: 100.0\n",
            "Fold 7\n",
            "Training......\n",
            "loss : 0.6663726246879523 \t\n",
            "CPU times: user 6.29 s, sys: 40 ms, total: 6.33 s\n",
            "Wall time: 6.33 s\n",
            "Testing......\n",
            "CPU times: user 217 µs, sys: 2 µs, total: 219 µs\n",
            "Wall time: 162 µs\n",
            "Accuracy: 100.0\n",
            "Fold 8\n",
            "Training......\n",
            "loss : 0.6663719356502539 \t\n",
            "CPU times: user 6.14 s, sys: 29 ms, total: 6.17 s\n",
            "Wall time: 6.17 s\n",
            "Testing......\n",
            "CPU times: user 103 µs, sys: 1e+03 ns, total: 104 µs\n",
            "Wall time: 107 µs\n",
            "Accuracy: 100.0\n",
            "Fold 9\n",
            "Training......\n",
            "loss : 0.6577371701861853 \t\n",
            "CPU times: user 6.23 s, sys: 32 ms, total: 6.27 s\n",
            "Wall time: 6.28 s\n",
            "Testing......\n",
            "CPU times: user 183 µs, sys: 1 µs, total: 184 µs\n",
            "Wall time: 152 µs\n",
            "Accuracy: 68.42105263157895\n",
            "Fold 10\n",
            "Training......\n",
            "loss : 0.6385381989968834 \t\n",
            "CPU times: user 6.18 s, sys: 33 ms, total: 6.22 s\n",
            "Wall time: 6.22 s\n",
            "Testing......\n",
            "CPU times: user 172 µs, sys: 0 ns, total: 172 µs\n",
            "Wall time: 138 µs\n",
            "Accuracy: 25.0\n",
            "--------------------------------------------------------------------\n",
            "Learning rate: 1e-05\n",
            "Fold 1\n",
            "Training......\n",
            "loss : 0.5930706290210234 \t\n",
            "CPU times: user 6.17 s, sys: 24 ms, total: 6.2 s\n",
            "Wall time: 6.2 s\n",
            "Testing......\n",
            "CPU times: user 177 µs, sys: 2 µs, total: 179 µs\n",
            "Wall time: 149 µs\n",
            "Accuracy: 100.0\n",
            "Fold 2\n",
            "Training......\n",
            "loss : 0.5599740533074621 \t\n",
            "CPU times: user 6.13 s, sys: 31 ms, total: 6.16 s\n",
            "Wall time: 6.16 s\n",
            "Testing......\n",
            "CPU times: user 0 ns, sys: 208 µs, total: 208 µs\n",
            "Wall time: 153 µs\n",
            "Accuracy: 68.42105263157895\n",
            "Fold 3\n",
            "Training......\n",
            "loss : 0.5217616603578394 \t\n",
            "CPU times: user 6.16 s, sys: 33.9 ms, total: 6.19 s\n",
            "Wall time: 6.2 s\n",
            "Testing......\n",
            "CPU times: user 94 µs, sys: 1 µs, total: 95 µs\n",
            "Wall time: 97.5 µs\n",
            "Accuracy: 36.84210526315789\n",
            "Fold 4\n",
            "Training......\n",
            "loss : 0.5599725594768963 \t\n",
            "CPU times: user 6.1 s, sys: 32 ms, total: 6.13 s\n",
            "Wall time: 6.14 s\n",
            "Testing......\n",
            "CPU times: user 197 µs, sys: 0 ns, total: 197 µs\n",
            "Wall time: 165 µs\n",
            "Accuracy: 68.42105263157895\n",
            "Fold 5\n",
            "Training......\n",
            "loss : 0.5930700924835377 \t\n",
            "CPU times: user 6.13 s, sys: 38 ms, total: 6.17 s\n",
            "Wall time: 6.17 s\n",
            "Testing......\n",
            "CPU times: user 181 µs, sys: 0 ns, total: 181 µs\n",
            "Wall time: 149 µs\n",
            "Accuracy: 100.0\n",
            "Fold 6\n",
            "Training......\n",
            "loss : 0.5930681787685358 \t\n",
            "CPU times: user 6.2 s, sys: 34 ms, total: 6.24 s\n",
            "Wall time: 6.24 s\n",
            "Testing......\n",
            "CPU times: user 200 µs, sys: 2 µs, total: 202 µs\n",
            "Wall time: 147 µs\n",
            "Accuracy: 100.0\n",
            "Fold 7\n",
            "Training......\n",
            "loss : 0.5930709681264079 \t\n",
            "CPU times: user 6.11 s, sys: 32 ms, total: 6.14 s\n",
            "Wall time: 6.14 s\n",
            "Testing......\n",
            "CPU times: user 199 µs, sys: 2 µs, total: 201 µs\n",
            "Wall time: 142 µs\n",
            "Accuracy: 100.0\n",
            "Fold 8\n",
            "Training......\n",
            "loss : 0.5930676161151401 \t\n",
            "CPU times: user 6.13 s, sys: 35 ms, total: 6.17 s\n",
            "Wall time: 6.17 s\n",
            "Testing......\n",
            "CPU times: user 1.23 ms, sys: 2 µs, total: 1.23 ms\n",
            "Wall time: 852 µs\n",
            "Accuracy: 100.0\n",
            "Fold 9\n",
            "Training......\n",
            "loss : 0.5599753648136617 \t\n",
            "CPU times: user 6.16 s, sys: 43.9 ms, total: 6.2 s\n",
            "Wall time: 6.21 s\n",
            "Testing......\n",
            "CPU times: user 98 µs, sys: 1 µs, total: 99 µs\n",
            "Wall time: 103 µs\n",
            "Accuracy: 68.42105263157895\n",
            "Fold 10\n",
            "Training......\n",
            "loss : 0.4849289996310165 \t\n",
            "CPU times: user 6.03 s, sys: 32 ms, total: 6.06 s\n",
            "Wall time: 6.07 s\n",
            "Testing......\n",
            "CPU times: user 109 µs, sys: 0 ns, total: 109 µs\n",
            "Wall time: 112 µs\n",
            "Accuracy: 25.0\n",
            "--------------------------------------------------------------------\n",
            "Learning rate: 0.0001\n",
            "Fold 1\n",
            "Training......\n",
            "loss : 0.5858886206581737 \t\n",
            "CPU times: user 6.25 s, sys: 19 ms, total: 6.27 s\n",
            "Wall time: 6.27 s\n",
            "Testing......\n",
            "CPU times: user 203 µs, sys: 2 µs, total: 205 µs\n",
            "Wall time: 146 µs\n",
            "Accuracy: 100.0\n",
            "Fold 2\n",
            "Training......\n",
            "loss : 0.5494607190979075 \t\n",
            "CPU times: user 6.14 s, sys: 37 ms, total: 6.18 s\n",
            "Wall time: 6.19 s\n",
            "Testing......\n",
            "CPU times: user 225 µs, sys: 0 ns, total: 225 µs\n",
            "Wall time: 179 µs\n",
            "Accuracy: 68.42105263157895\n",
            "Fold 3\n",
            "Training......\n",
            "loss : 0.5065975790084895 \t\n",
            "CPU times: user 6.21 s, sys: 42 ms, total: 6.25 s\n",
            "Wall time: 6.26 s\n",
            "Testing......\n",
            "CPU times: user 183 µs, sys: 0 ns, total: 183 µs\n",
            "Wall time: 149 µs\n",
            "Accuracy: 36.84210526315789\n",
            "Fold 4\n",
            "Training......\n",
            "loss : 0.5494488519185704 \t\n",
            "CPU times: user 6.16 s, sys: 33 ms, total: 6.19 s\n",
            "Wall time: 6.19 s\n",
            "Testing......\n",
            "CPU times: user 188 µs, sys: 0 ns, total: 188 µs\n",
            "Wall time: 146 µs\n",
            "Accuracy: 68.42105263157895\n",
            "Fold 5\n",
            "Training......\n",
            "loss : 0.5858880403652804 \t\n",
            "CPU times: user 6.12 s, sys: 49 ms, total: 6.17 s\n",
            "Wall time: 6.17 s\n",
            "Testing......\n",
            "CPU times: user 154 µs, sys: 0 ns, total: 154 µs\n",
            "Wall time: 146 µs\n",
            "Accuracy: 100.0\n",
            "Fold 6\n",
            "Training......\n",
            "loss : 0.5858732711672889 \t\n",
            "CPU times: user 6.17 s, sys: 24 ms, total: 6.19 s\n",
            "Wall time: 6.19 s\n",
            "Testing......\n",
            "CPU times: user 235 µs, sys: 1 µs, total: 236 µs\n",
            "Wall time: 209 µs\n",
            "Accuracy: 100.0\n",
            "Fold 7\n",
            "Training......\n",
            "loss : 0.5858931206831147 \t\n",
            "CPU times: user 5.99 s, sys: 33 ms, total: 6.03 s\n",
            "Wall time: 6.03 s\n",
            "Testing......\n",
            "CPU times: user 173 µs, sys: 2 µs, total: 175 µs\n",
            "Wall time: 143 µs\n",
            "Accuracy: 100.0\n",
            "Fold 8\n",
            "Training......\n",
            "loss : 0.5858726400264639 \t\n",
            "CPU times: user 6.13 s, sys: 40 ms, total: 6.17 s\n",
            "Wall time: 6.18 s\n",
            "Testing......\n",
            "CPU times: user 105 µs, sys: 0 ns, total: 105 µs\n",
            "Wall time: 108 µs\n",
            "Accuracy: 100.0\n",
            "Fold 9\n",
            "Training......\n",
            "loss : 0.5494526214790615 \t\n",
            "CPU times: user 6.16 s, sys: 36 ms, total: 6.19 s\n",
            "Wall time: 6.21 s\n",
            "Testing......\n",
            "CPU times: user 208 µs, sys: 0 ns, total: 208 µs\n",
            "Wall time: 185 µs\n",
            "Accuracy: 68.42105263157895\n",
            "Fold 10\n",
            "Training......\n",
            "loss : 0.46425591991864773 \t\n",
            "CPU times: user 6.13 s, sys: 35.9 ms, total: 6.17 s\n",
            "Wall time: 6.19 s\n",
            "Testing......\n",
            "CPU times: user 182 µs, sys: 2 µs, total: 184 µs\n",
            "Wall time: 149 µs\n",
            "Accuracy: 25.0\n",
            "--------------------------------------------------------------------\n",
            "Learning rate: 0.001\n",
            "Fold 1\n",
            "Training......\n",
            "loss : 0.58533387095959 \t\n",
            "CPU times: user 6.24 s, sys: 27 ms, total: 6.27 s\n",
            "Wall time: 6.28 s\n",
            "Testing......\n",
            "CPU times: user 112 µs, sys: 1e+03 ns, total: 113 µs\n",
            "Wall time: 116 µs\n",
            "Accuracy: 100.0\n",
            "Fold 2\n",
            "Training......\n",
            "loss : 0.5491180295532341 \t\n",
            "CPU times: user 6.16 s, sys: 33 ms, total: 6.19 s\n",
            "Wall time: 6.19 s\n",
            "Testing......\n",
            "CPU times: user 207 µs, sys: 2 µs, total: 209 µs\n",
            "Wall time: 146 µs\n",
            "Accuracy: 68.42105263157895\n",
            "Fold 3\n",
            "Training......\n",
            "loss : 0.5062618203570817 \t\n",
            "CPU times: user 6.22 s, sys: 36 ms, total: 6.25 s\n",
            "Wall time: 6.26 s\n",
            "Testing......\n",
            "CPU times: user 111 µs, sys: 1 µs, total: 112 µs\n",
            "Wall time: 116 µs\n",
            "Accuracy: 36.84210526315789\n",
            "Fold 4\n",
            "Training......\n",
            "loss : 0.5490029876498637 \t\n",
            "CPU times: user 6.14 s, sys: 35 ms, total: 6.18 s\n",
            "Wall time: 6.19 s\n",
            "Testing......\n",
            "CPU times: user 107 µs, sys: 1 µs, total: 108 µs\n",
            "Wall time: 111 µs\n",
            "Accuracy: 68.42105263157895\n",
            "Fold 5\n",
            "Training......\n",
            "loss : 0.5853321873196358 \t\n",
            "CPU times: user 6.21 s, sys: 29 ms, total: 6.24 s\n",
            "Wall time: 6.24 s\n",
            "Testing......\n",
            "CPU times: user 116 µs, sys: 0 ns, total: 116 µs\n",
            "Wall time: 120 µs\n",
            "Accuracy: 100.0\n",
            "Fold 6\n",
            "Training......\n",
            "loss : 0.5851911150700041 \t\n",
            "CPU times: user 6.14 s, sys: 38 ms, total: 6.17 s\n",
            "Wall time: 6.18 s\n",
            "Testing......\n",
            "CPU times: user 89 µs, sys: 1 µs, total: 90 µs\n",
            "Wall time: 92 µs\n",
            "Accuracy: 100.0\n",
            "Fold 7\n",
            "Training......\n",
            "loss : 0.5853782276102475 \t\n",
            "CPU times: user 6.03 s, sys: 12 ms, total: 6.04 s\n",
            "Wall time: 6.05 s\n",
            "Testing......\n",
            "CPU times: user 104 µs, sys: 0 ns, total: 104 µs\n",
            "Wall time: 108 µs\n",
            "Accuracy: 100.0\n",
            "Fold 8\n",
            "Training......\n",
            "loss : 0.5851906044375164 \t\n",
            "CPU times: user 6.17 s, sys: 29 ms, total: 6.2 s\n",
            "Wall time: 6.2 s\n",
            "Testing......\n",
            "CPU times: user 93 µs, sys: 1 µs, total: 94 µs\n",
            "Wall time: 97 µs\n",
            "Accuracy: 100.0\n",
            "Fold 9\n",
            "Training......\n",
            "loss : 0.5490166286277574 \t\n",
            "CPU times: user 6.21 s, sys: 23 ms, total: 6.23 s\n",
            "Wall time: 6.24 s\n",
            "Testing......\n",
            "CPU times: user 117 µs, sys: 1 µs, total: 118 µs\n",
            "Wall time: 121 µs\n",
            "Accuracy: 68.42105263157895\n",
            "Fold 10\n",
            "Training......\n",
            "loss : 0.4629419361595776 \t\n",
            "CPU times: user 6.17 s, sys: 23 ms, total: 6.2 s\n",
            "Wall time: 6.2 s\n",
            "Testing......\n",
            "CPU times: user 152 µs, sys: 1e+03 ns, total: 153 µs\n",
            "Wall time: 158 µs\n",
            "Accuracy: 25.0\n",
            "--------------------------------------------------------------------\n",
            "Learning rate: 0.01\n",
            "Fold 1\n",
            "Training......\n",
            "loss : 0.5800592013128661 \t\n",
            "CPU times: user 6.17 s, sys: 24 ms, total: 6.19 s\n",
            "Wall time: 6.21 s\n",
            "Testing......\n",
            "CPU times: user 169 µs, sys: 1e+03 ns, total: 170 µs\n",
            "Wall time: 140 µs\n",
            "Accuracy: 100.0\n",
            "Fold 2\n",
            "Training......\n",
            "loss : 0.5457539189515497 \t\n",
            "CPU times: user 6.25 s, sys: 44 ms, total: 6.3 s\n",
            "Wall time: 6.31 s\n",
            "Testing......\n",
            "CPU times: user 207 µs, sys: 0 ns, total: 207 µs\n",
            "Wall time: 176 µs\n",
            "Accuracy: 68.42105263157895\n",
            "Fold 3\n",
            "Training......\n",
            "loss : 0.5029722748020138 \t\n",
            "CPU times: user 6.2 s, sys: 33.9 ms, total: 6.24 s\n",
            "Wall time: 6.25 s\n",
            "Testing......\n",
            "CPU times: user 97 µs, sys: 1 µs, total: 98 µs\n",
            "Wall time: 101 µs\n",
            "Accuracy: 36.84210526315789\n",
            "Fold 4\n",
            "Training......\n",
            "loss : 0.5446694973224503 \t\n",
            "CPU times: user 6.19 s, sys: 23 ms, total: 6.21 s\n",
            "Wall time: 6.22 s\n",
            "Testing......\n",
            "CPU times: user 101 µs, sys: 0 ns, total: 101 µs\n",
            "Wall time: 103 µs\n",
            "Accuracy: 68.42105263157895\n",
            "Fold 5\n",
            "Training......\n",
            "loss : 0.5800117882982395 \t\n",
            "CPU times: user 6.24 s, sys: 34 ms, total: 6.28 s\n",
            "Wall time: 6.28 s\n",
            "Testing......\n",
            "CPU times: user 96 µs, sys: 1e+03 ns, total: 97 µs\n",
            "Wall time: 99.9 µs\n",
            "Accuracy: 100.0\n",
            "Fold 6\n",
            "Training......\n",
            "loss : 0.57877927044827 \t\n",
            "CPU times: user 6.05 s, sys: 21 ms, total: 6.08 s\n",
            "Wall time: 6.08 s\n",
            "Testing......\n",
            "CPU times: user 94 µs, sys: 0 ns, total: 94 µs\n",
            "Wall time: 97 µs\n",
            "Accuracy: 100.0\n",
            "Fold 7\n",
            "Training......\n",
            "loss : 0.5803704415928563 \t\n",
            "CPU times: user 6.15 s, sys: 22 ms, total: 6.17 s\n",
            "Wall time: 6.18 s\n",
            "Testing......\n",
            "CPU times: user 92 µs, sys: 1 µs, total: 93 µs\n",
            "Wall time: 95.4 µs\n",
            "Accuracy: 100.0\n",
            "Fold 8\n",
            "Training......\n",
            "loss : 0.5788751326171915 \t\n",
            "CPU times: user 6.21 s, sys: 31 ms, total: 6.24 s\n",
            "Wall time: 6.26 s\n",
            "Testing......\n",
            "CPU times: user 95 µs, sys: 0 ns, total: 95 µs\n",
            "Wall time: 98 µs\n",
            "Accuracy: 100.0\n",
            "Fold 9\n",
            "Training......\n",
            "loss : 0.5448051575465638 \t\n",
            "CPU times: user 6.23 s, sys: 34 ms, total: 6.27 s\n",
            "Wall time: 6.28 s\n",
            "Testing......\n",
            "CPU times: user 167 µs, sys: 2 µs, total: 169 µs\n",
            "Wall time: 140 µs\n",
            "Accuracy: 68.42105263157895\n",
            "Fold 10\n",
            "Training......\n",
            "loss : 0.451094137439692 \t\n",
            "CPU times: user 6.18 s, sys: 32 ms, total: 6.21 s\n",
            "Wall time: 6.22 s\n",
            "Testing......\n",
            "CPU times: user 229 µs, sys: 2 µs, total: 231 µs\n",
            "Wall time: 244 µs\n",
            "Accuracy: 25.0\n",
            "--------------------------------------------------------------------\n",
            "Learning rate: 0.1\n",
            "Fold 1\n",
            "Training......\n",
            "loss : 0.5417450443988691 \t\n",
            "CPU times: user 6.24 s, sys: 25 ms, total: 6.26 s\n",
            "Wall time: 6.28 s\n",
            "Testing......\n",
            "CPU times: user 174 µs, sys: 0 ns, total: 174 µs\n",
            "Wall time: 143 µs\n",
            "Accuracy: 100.0\n",
            "Fold 2\n",
            "Training......\n",
            "loss : 0.5174791704950041 \t\n",
            "CPU times: user 6.22 s, sys: 25 ms, total: 6.24 s\n",
            "Wall time: 6.26 s\n",
            "Testing......\n",
            "CPU times: user 89 µs, sys: 0 ns, total: 89 µs\n",
            "Wall time: 92.5 µs\n",
            "Accuracy: 68.42105263157895\n",
            "Fold 3\n",
            "Training......\n",
            "loss : 0.47557487146590416 \t\n",
            "CPU times: user 6.19 s, sys: 26 ms, total: 6.21 s\n",
            "Wall time: 6.22 s\n",
            "Testing......\n",
            "CPU times: user 244 µs, sys: 0 ns, total: 244 µs\n",
            "Wall time: 215 µs\n",
            "Accuracy: 36.84210526315789\n",
            "Fold 4\n",
            "Training......\n",
            "loss : 0.5102784368649065 \t\n",
            "CPU times: user 6.22 s, sys: 31 ms, total: 6.25 s\n",
            "Wall time: 6.25 s\n",
            "Testing......\n",
            "CPU times: user 102 µs, sys: 1e+03 ns, total: 103 µs\n",
            "Wall time: 107 µs\n",
            "Accuracy: 68.42105263157895\n",
            "Fold 5\n",
            "Training......\n",
            "loss : 0.5404183842552587 \t\n",
            "CPU times: user 6.24 s, sys: 27 ms, total: 6.27 s\n",
            "Wall time: 6.27 s\n",
            "Testing......\n",
            "CPU times: user 102 µs, sys: 1 µs, total: 103 µs\n",
            "Wall time: 113 µs\n",
            "Accuracy: 100.0\n",
            "Fold 6\n",
            "Training......\n",
            "loss : 0.5349474332485632 \t\n",
            "CPU times: user 6.1 s, sys: 22 ms, total: 6.12 s\n",
            "Wall time: 6.12 s\n",
            "Testing......\n",
            "CPU times: user 170 µs, sys: 1 µs, total: 171 µs\n",
            "Wall time: 141 µs\n",
            "Accuracy: 100.0\n",
            "Fold 7\n",
            "Training......\n",
            "loss : 0.5405244600760635 \t\n",
            "CPU times: user 6.41 s, sys: 36.9 ms, total: 6.44 s\n",
            "Wall time: 6.45 s\n",
            "Testing......\n",
            "CPU times: user 172 µs, sys: 2 µs, total: 174 µs\n",
            "Wall time: 165 µs\n",
            "Accuracy: 100.0\n",
            "Fold 8\n",
            "Training......\n",
            "loss : 0.5394613122351841 \t\n",
            "CPU times: user 6.31 s, sys: 38 ms, total: 6.35 s\n",
            "Wall time: 6.35 s\n",
            "Testing......\n",
            "CPU times: user 180 µs, sys: 2 µs, total: 182 µs\n",
            "Wall time: 146 µs\n",
            "Accuracy: 100.0\n",
            "Fold 9\n",
            "Training......\n",
            "loss : 0.5120093912588962 \t\n",
            "CPU times: user 6.27 s, sys: 35 ms, total: 6.31 s\n",
            "Wall time: 6.31 s\n",
            "Testing......\n",
            "CPU times: user 96 µs, sys: 1e+03 ns, total: 97 µs\n",
            "Wall time: 100 µs\n",
            "Accuracy: 68.42105263157895\n",
            "Fold 10\n",
            "Training......\n",
            "loss : 0.39459891782629386 \t\n",
            "CPU times: user 6.23 s, sys: 40 ms, total: 6.27 s\n",
            "Wall time: 6.28 s\n",
            "Testing......\n",
            "CPU times: user 103 µs, sys: 1e+03 ns, total: 104 µs\n",
            "Wall time: 108 µs\n",
            "Accuracy: 25.0\n",
            "--------------------------------------------------------------------\n"
          ],
          "name": "stdout"
        }
      ]
    },
    {
      "cell_type": "code",
      "metadata": {
        "id": "mGHaTCnsXfQB",
        "colab_type": "code",
        "colab": {}
      },
      "source": [
        "import statistics "
      ],
      "execution_count": 0,
      "outputs": []
    },
    {
      "cell_type": "code",
      "metadata": {
        "id": "Vbl5lw7EWLRc",
        "colab_type": "code",
        "colab": {}
      },
      "source": [
        "max_accuracy = [max(score[\"scores\"]) for score in scores_logistic]\n",
        "average_accuracy = [statistics.mean(score[\"scores\"]) for score in scores_logistic]\n",
        "min_accuracy = [min(score[\"scores\"]) for score in scores_logistic]\n",
        "\n",
        "max_accuracy_no_shuffle = [max(score[\"scores\"]) for score in scores_logistic_no_shuffle]\n",
        "average_accuracy_no_shuffle = [statistics.mean(score[\"scores\"]) for score in scores_logistic_no_shuffle]\n",
        "min_accuracy_no_shuffle = [min(score[\"scores\"]) for score in scores_logistic_no_shuffle]\n",
        "\n",
        "max_loss = [max(score[\"loss\"]) for score in scores_logistic]\n",
        "average_loss = [statistics.mean(score[\"loss\"]) for score in scores_logistic]\n",
        "min_loss = [min(score[\"loss\"]) for score in scores_logistic]\n",
        "\n",
        "max_loss_no_shuffle = [max(score[\"loss\"]) for score in scores_logistic_no_shuffle]\n",
        "average_loss_no_shuffle = [statistics.mean(score[\"loss\"]) for score in scores_logistic_no_shuffle]\n",
        "min_loss_no_shuffle = [min(score[\"loss\"]) for score in scores_logistic_no_shuffle]"
      ],
      "execution_count": 0,
      "outputs": []
    },
    {
      "cell_type": "code",
      "metadata": {
        "id": "u4_lBtsEq5PJ",
        "colab_type": "code",
        "outputId": "3eb8a338-1c5c-42fe-c68f-dcbdf623644d",
        "colab": {
          "base_uri": "https://localhost:8080/",
          "height": 271
        }
      },
      "source": [
        "print(f'Learning rates {learning_rates}')\n",
        "print(f'Maximum loss: {max_loss}')\n",
        "print(f'Minimum loss: {min_loss}')\n",
        "print(f'Average loss: {average_loss}')\n",
        "\n",
        "print(f'Maximum loss (no shuffle): {max_loss_no_shuffle}')\n",
        "print(f'Minimum loss (no shuffle): {min_loss_no_shuffle}')\n",
        "print(f'Average loss (no shuffle): {average_loss_no_shuffle}')\n",
        "\n",
        "print(f'Maximum accuracy: {max_accuracy}')\n",
        "print(f'Minimum accuracy: {min_accuracy}')\n",
        "print(f'Average accuracy: {average_accuracy}')\n",
        "\n",
        "print(f'Maximum accuracy (no shuffle): {max_accuracy_no_shuffle}')\n",
        "print(f'Minimum accuracy (no shuffle): {min_accuracy_no_shuffle}')\n",
        "print(f'Average accuracy (no shuffle): {average_accuracy_no_shuffle}')"
      ],
      "execution_count": 0,
      "outputs": [
        {
          "output_type": "stream",
          "text": [
            "Learning rates [1e-06, 1e-05, 0.0001, 0.001, 0.01, 0.1]\n",
            "Maximum loss: [0.6650164425017441, 0.5879006162059542, 0.5802350707890569, 0.5797035681388141, 0.5745541944503253, 0.5344157371519294]\n",
            "Minimum loss: [0.6545901122381348, 0.5478115940969239, 0.5358912193238043, 0.5353194720085974, 0.5299271544020865, 0.4927444683980778]\n",
            "Average loss: [0.6596500162536388, 0.567308433390149, 0.5575214657104671, 0.5569937023491398, 0.5519665898801543, 0.5155216393719161]\n",
            "Maximum loss (no shuffle): [0.6663726428011876, 0.5930709681264079, 0.5858931206831147, 0.5853782276102475, 0.5803704415928563, 0.5417450443988691]\n",
            "Minimum loss (no shuffle): [0.6385381989968834, 0.4849289996310165, 0.46425591991864773, 0.4629419361595776, 0.451094137439692, 0.39459891782629386]\n",
            "Average loss (no shuffle): [0.6591505304601739, 0.5651960122101521, 0.5548631384322998, 0.5542767407744508, 0.5487390820331693, 0.5107037422124944]\n",
            "Maximum accuracy: [94.73684210526315, 94.73684210526315, 94.73684210526315, 94.73684210526315, 94.73684210526315, 94.73684210526315]\n",
            "Minimum accuracy: [57.89473684210527, 57.89473684210527, 57.89473684210527, 57.89473684210527, 57.89473684210527, 57.89473684210527]\n",
            "Average accuracy: [75.50438596491227, 75.50438596491227, 75.50438596491227, 75.50438596491227, 75.50438596491227, 75.50438596491227]\n",
            "Maximum accuracy (no shuffle): [100.0, 100.0, 100.0, 100.0, 100.0, 100.0]\n",
            "Minimum accuracy (no shuffle): [25.0, 25.0, 25.0, 25.0, 25.0, 25.0]\n",
            "Average accuracy (no shuffle): [76.71052631578948, 76.71052631578948, 76.71052631578948, 76.71052631578948, 76.71052631578948, 76.71052631578948]\n"
          ],
          "name": "stdout"
        }
      ]
    },
    {
      "cell_type": "code",
      "metadata": {
        "id": "CETvMgD8W0-b",
        "colab_type": "code",
        "outputId": "3d81f001-6e39-4a96-c559-631d6d3afbd3",
        "colab": {
          "base_uri": "https://localhost:8080/",
          "height": 125
        }
      },
      "source": [
        "max_accuracy"
      ],
      "execution_count": 0,
      "outputs": [
        {
          "output_type": "execute_result",
          "data": {
            "text/plain": [
              "[94.73684210526315,\n",
              " 94.73684210526315,\n",
              " 94.73684210526315,\n",
              " 94.73684210526315,\n",
              " 94.73684210526315,\n",
              " 94.73684210526315]"
            ]
          },
          "metadata": {
            "tags": []
          },
          "execution_count": 145
        }
      ]
    },
    {
      "cell_type": "code",
      "metadata": {
        "id": "XBJF0Q5bW8qd",
        "colab_type": "code",
        "outputId": "4a7f3240-fb08-4fb3-989e-80de9c67f7fb",
        "colab": {
          "base_uri": "https://localhost:8080/",
          "height": 35
        }
      },
      "source": [
        "max_accuracy_no_shuffle"
      ],
      "execution_count": 0,
      "outputs": [
        {
          "output_type": "execute_result",
          "data": {
            "text/plain": [
              "[100.0, 100.0, 100.0, 100.0, 100.0, 100.0]"
            ]
          },
          "metadata": {
            "tags": []
          },
          "execution_count": 146
        }
      ]
    },
    {
      "cell_type": "code",
      "metadata": {
        "id": "bjJn7PA-XUB5",
        "colab_type": "code",
        "outputId": "5baa0c85-ab1b-42dd-b9c8-3b162e2dd6e0",
        "colab": {
          "base_uri": "https://localhost:8080/",
          "height": 125
        }
      },
      "source": [
        "average_accuracy"
      ],
      "execution_count": 0,
      "outputs": [
        {
          "output_type": "execute_result",
          "data": {
            "text/plain": [
              "[75.50438596491227,\n",
              " 75.50438596491227,\n",
              " 75.50438596491227,\n",
              " 75.50438596491227,\n",
              " 75.50438596491227,\n",
              " 75.50438596491227]"
            ]
          },
          "metadata": {
            "tags": []
          },
          "execution_count": 147
        }
      ]
    },
    {
      "cell_type": "code",
      "metadata": {
        "id": "BqVIFMPmXBWt",
        "colab_type": "code",
        "outputId": "e764ecb8-a5d4-4fa8-852b-351948db6691",
        "colab": {
          "base_uri": "https://localhost:8080/",
          "height": 125
        }
      },
      "source": [
        "average_accuracy_no_shuffle"
      ],
      "execution_count": 0,
      "outputs": [
        {
          "output_type": "execute_result",
          "data": {
            "text/plain": [
              "[76.71052631578948,\n",
              " 76.71052631578948,\n",
              " 76.71052631578948,\n",
              " 76.71052631578948,\n",
              " 76.71052631578948,\n",
              " 76.71052631578948]"
            ]
          },
          "metadata": {
            "tags": []
          },
          "execution_count": 148
        }
      ]
    },
    {
      "cell_type": "code",
      "metadata": {
        "id": "d1KK86WEYA68",
        "colab_type": "code",
        "outputId": "2b3ee264-1241-4e7d-db8f-dcc7b93fe531",
        "colab": {
          "base_uri": "https://localhost:8080/",
          "height": 125
        }
      },
      "source": [
        "min_accuracy"
      ],
      "execution_count": 0,
      "outputs": [
        {
          "output_type": "execute_result",
          "data": {
            "text/plain": [
              "[57.89473684210527,\n",
              " 57.89473684210527,\n",
              " 57.89473684210527,\n",
              " 57.89473684210527,\n",
              " 57.89473684210527,\n",
              " 57.89473684210527]"
            ]
          },
          "metadata": {
            "tags": []
          },
          "execution_count": 149
        }
      ]
    },
    {
      "cell_type": "code",
      "metadata": {
        "id": "9eXtBeEiXL7B",
        "colab_type": "code",
        "outputId": "e3f6402c-b141-4fea-8a22-ae478fa3bd42",
        "colab": {
          "base_uri": "https://localhost:8080/",
          "height": 35
        }
      },
      "source": [
        "min_accuracy_no_shuffle"
      ],
      "execution_count": 0,
      "outputs": [
        {
          "output_type": "execute_result",
          "data": {
            "text/plain": [
              "[25.0, 25.0, 25.0, 25.0, 25.0, 25.0]"
            ]
          },
          "metadata": {
            "tags": []
          },
          "execution_count": 150
        }
      ]
    },
    {
      "cell_type": "code",
      "metadata": {
        "id": "mx3WRyZU7e5F",
        "colab_type": "code",
        "outputId": "971b9bac-9e92-4ca1-da54-bc464a1cb36f",
        "colab": {
          "base_uri": "https://localhost:8080/",
          "height": 1000
        }
      },
      "source": [
        "scores_logistic"
      ],
      "execution_count": 0,
      "outputs": [
        {
          "output_type": "execute_result",
          "data": {
            "text/plain": [
              "[{'learning_rate': 1e-06,\n",
              "  'loss': [0.6636280745082611,\n",
              "   0.6577369052988318,\n",
              "   0.6650164425017441,\n",
              "   0.663628186212403,\n",
              "   0.6545904993281216,\n",
              "   0.6592594562440109,\n",
              "   0.6592592171895331,\n",
              "   0.6607490647869315,\n",
              "   0.6545901122381348,\n",
              "   0.6580422042284169],\n",
              "  'scores': [89.47368421052632,\n",
              "   68.42105263157895,\n",
              "   94.73684210526315,\n",
              "   89.47368421052632,\n",
              "   57.89473684210527,\n",
              "   73.68421052631578,\n",
              "   73.68421052631578,\n",
              "   78.94736842105263,\n",
              "   57.89473684210527,\n",
              "   70.83333333333334]},\n",
              " {'learning_rate': 1e-05,\n",
              "  'loss': [0.5825959273438416,\n",
              "   0.5599739680947037,\n",
              "   0.5879006162059542,\n",
              "   0.5825963161529711,\n",
              "   0.5478151206525174,\n",
              "   0.5658386776954512,\n",
              "   0.5658386937351279,\n",
              "   0.5715643828337292,\n",
              "   0.5478115940969239,\n",
              "   0.5611490370902699],\n",
              "  'scores': [89.47368421052632,\n",
              "   68.42105263157895,\n",
              "   94.73684210526315,\n",
              "   89.47368421052632,\n",
              "   57.89473684210527,\n",
              "   73.68421052631578,\n",
              "   73.68421052631578,\n",
              "   78.94736842105263,\n",
              "   57.89473684210527,\n",
              "   70.83333333333334]},\n",
              " {'learning_rate': 0.0001,\n",
              "  'loss': [0.57441820276686,\n",
              "   0.5494497688087585,\n",
              "   0.5802350707890569,\n",
              "   0.5744129409616247,\n",
              "   0.5359079651960302,\n",
              "   0.5559494310377705,\n",
              "   0.5559512296866513,\n",
              "   0.5622763692308491,\n",
              "   0.5358912193238043,\n",
              "   0.5507224593032661],\n",
              "  'scores': [89.47368421052632,\n",
              "   68.42105263157895,\n",
              "   94.73684210526315,\n",
              "   89.47368421052632,\n",
              "   57.89473684210527,\n",
              "   73.68421052631578,\n",
              "   73.68421052631578,\n",
              "   78.94736842105263,\n",
              "   57.89473684210527,\n",
              "   70.83333333333334]},\n",
              " {'learning_rate': 0.001,\n",
              "  'loss': [0.5738961003438312,\n",
              "   0.5490015888246738,\n",
              "   0.5797035681388141,\n",
              "   0.5738337033807774,\n",
              "   0.5354610000767763,\n",
              "   0.5554809060045186,\n",
              "   0.5554980162368192,\n",
              "   0.5617839880015381,\n",
              "   0.5353194720085974,\n",
              "   0.5499586804750526],\n",
              "  'scores': [89.47368421052632,\n",
              "   68.42105263157895,\n",
              "   94.73684210526315,\n",
              "   89.47368421052632,\n",
              "   57.89473684210527,\n",
              "   73.68421052631578,\n",
              "   73.68421052631578,\n",
              "   78.94736842105263,\n",
              "   57.89473684210527,\n",
              "   70.83333333333334]},\n",
              " {'learning_rate': 0.01,\n",
              "  'loss': [0.5688648129409214,\n",
              "   0.5446762741241504,\n",
              "   0.5745541944503253,\n",
              "   0.5683602576384231,\n",
              "   0.5312054585578166,\n",
              "   0.5509888659033823,\n",
              "   0.5511457111463487,\n",
              "   0.557052798513795,\n",
              "   0.5299271544020865,\n",
              "   0.5428903711242938],\n",
              "  'scores': [89.47368421052632,\n",
              "   68.42105263157895,\n",
              "   94.73684210526315,\n",
              "   89.47368421052632,\n",
              "   57.89473684210527,\n",
              "   73.68421052631578,\n",
              "   73.68421052631578,\n",
              "   78.94736842105263,\n",
              "   57.89473684210527,\n",
              "   70.83333333333334]},\n",
              " {'learning_rate': 0.1,\n",
              "  'loss': [0.5303139276943519,\n",
              "   0.5112146853993357,\n",
              "   0.5344157371519294,\n",
              "   0.5299724376360185,\n",
              "   0.5004931377826033,\n",
              "   0.5171415597435812,\n",
              "   0.518360911605738,\n",
              "   0.5213189204135035,\n",
              "   0.4927444683980778,\n",
              "   0.49924060789402197],\n",
              "  'scores': [89.47368421052632,\n",
              "   68.42105263157895,\n",
              "   94.73684210526315,\n",
              "   89.47368421052632,\n",
              "   57.89473684210527,\n",
              "   73.68421052631578,\n",
              "   73.68421052631578,\n",
              "   78.94736842105263,\n",
              "   57.89473684210527,\n",
              "   70.83333333333334]}]"
            ]
          },
          "metadata": {
            "tags": []
          },
          "execution_count": 97
        }
      ]
    },
    {
      "cell_type": "markdown",
      "metadata": {
        "id": "eZdmOpgysH4g",
        "colab_type": "text"
      },
      "source": [
        "##Training time - LDA"
      ]
    },
    {
      "cell_type": "code",
      "metadata": {
        "id": "VFiHB4LGsG41",
        "colab_type": "code",
        "outputId": "a4b8ca8a-18e9-4864-f74b-67f0d0d95cd2",
        "colab": {
          "resources": {
            "http://localhost:8080/nbextensions/google.colab/files.js": {
              "data": "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",
              "ok": true,
              "headers": [
                [
                  "content-type",
                  "application/javascript"
                ]
              ],
              "status": 200,
              "status_text": ""
            }
          },
          "base_uri": "https://localhost:8080/",
          "height": 75
        }
      },
      "source": [
        "#src_lda2 = list(files.upload().values())[0]"
      ],
      "execution_count": 0,
      "outputs": [
        {
          "output_type": "display_data",
          "data": {
            "text/html": [
              "\n",
              "     <input type=\"file\" id=\"files-e8bf3c7a-f8c2-46d0-93ad-df2a48a8f59d\" name=\"files[]\" multiple disabled />\n",
              "     <output id=\"result-e8bf3c7a-f8c2-46d0-93ad-df2a48a8f59d\">\n",
              "      Upload widget is only available when the cell has been executed in the\n",
              "      current browser session. Please rerun this cell to enable.\n",
              "      </output>\n",
              "      <script src=\"/nbextensions/google.colab/files.js\"></script> "
            ],
            "text/plain": [
              "<IPython.core.display.HTML object>"
            ]
          },
          "metadata": {
            "tags": []
          }
        },
        {
          "output_type": "stream",
          "text": [
            "Saving lda.py to lda.py\n"
          ],
          "name": "stdout"
        }
      ]
    },
    {
      "cell_type": "code",
      "metadata": {
        "id": "ES8d-YhNswWU",
        "colab_type": "code",
        "colab": {}
      },
      "source": [
        "open('lda3.py','wb').write(src_lda2)\n",
        "import lda3 as mylda"
      ],
      "execution_count": 0,
      "outputs": []
    },
    {
      "cell_type": "code",
      "metadata": {
        "id": "xWmaJKaLtQyY",
        "colab_type": "code",
        "outputId": "b0bdd1f3-d8ef-4c72-c78d-17ea8bac5fc0",
        "colab": {
          "base_uri": "https://localhost:8080/",
          "height": 35
        }
      },
      "source": [
        "model2 = mylda.LDA(np.array(X), np.array(y))\n",
        "prediction2 = model2.predict(model2.xData)\n",
        "model2.accu_eval(prediction2, model2.yData)"
      ],
      "execution_count": 0,
      "outputs": [
        {
          "output_type": "execute_result",
          "data": {
            "text/plain": [
              "85.12820512820512"
            ]
          },
          "metadata": {
            "tags": []
          },
          "execution_count": 58
        }
      ]
    },
    {
      "cell_type": "code",
      "metadata": {
        "id": "chMTWc1xtRbN",
        "colab_type": "code",
        "outputId": "6fe146ae-dc07-4914-ac27-09a3bd7df79a",
        "colab": {
          "base_uri": "https://localhost:8080/",
          "height": 1000
        }
      },
      "source": [
        "%%time\n",
        "print('         Shuffled data')\n",
        "scores_lda = []\n",
        "\n",
        "for index, (train, test) in enumerate(cross_val_indexes):\n",
        "    print(f'Fold {index + 1}')\n",
        "    train_x = np.column_stack([np.take(X[:,i], train) for i in range(0, X.shape[1])])\n",
        "    train_y = np.take(y, train)\n",
        "    \n",
        "    print('Training......')\n",
        "    %time lda_model = mylda.LDA(np.array(train_x), np.array(train_y))\n",
        "\n",
        "    test_x = np.column_stack([np.take(X[:,i], test) for i in range(0, X.shape[1])])\n",
        "    test_y = np.take(y, test)\n",
        "    print('Training......')\n",
        "    %time accuracy = lda_model.accu_eval(lda_model.predict(test_x), test_y)\n",
        "\n",
        "    print(f'Accuracy: {accuracy}')\n",
        "    scores_lda.append(accuracy)\n",
        "    print('--------------------------------------------------------------------')"
      ],
      "execution_count": 0,
      "outputs": [
        {
          "output_type": "stream",
          "text": [
            "         Shuffled data\n",
            "Fold 1\n",
            "Training......\n",
            "CPU times: user 3.11 ms, sys: 0 ns, total: 3.11 ms\n",
            "Wall time: 3.12 ms\n",
            "Training......\n",
            "CPU times: user 1.09 ms, sys: 997 µs, total: 2.08 ms\n",
            "Wall time: 1.51 ms\n",
            "Accuracy: 100.0\n",
            "--------------------------------------------------------------------\n",
            "Fold 2\n",
            "Training......\n",
            "CPU times: user 3.18 ms, sys: 3.99 ms, total: 7.17 ms\n",
            "Wall time: 3.72 ms\n",
            "Training......\n",
            "CPU times: user 396 µs, sys: 1.98 ms, total: 2.38 ms\n",
            "Wall time: 1.24 ms\n",
            "Accuracy: 89.47368421052632\n",
            "--------------------------------------------------------------------\n",
            "Fold 3\n",
            "Training......\n",
            "CPU times: user 2.76 ms, sys: 3.99 ms, total: 6.75 ms\n",
            "Wall time: 3.52 ms\n",
            "Training......\n",
            "CPU times: user 384 µs, sys: 1.99 ms, total: 2.37 ms\n",
            "Wall time: 1.23 ms\n",
            "Accuracy: 94.73684210526315\n",
            "--------------------------------------------------------------------\n",
            "Fold 4\n",
            "Training......\n",
            "CPU times: user 4.34 ms, sys: 3 ms, total: 7.34 ms\n",
            "Wall time: 4.04 ms\n",
            "Training......\n",
            "CPU times: user 1.34 ms, sys: 1 ms, total: 2.34 ms\n",
            "Wall time: 1.21 ms\n",
            "Accuracy: 100.0\n",
            "--------------------------------------------------------------------\n",
            "Fold 5\n",
            "Training......\n",
            "CPU times: user 4 ms, sys: 3.01 ms, total: 7.01 ms\n",
            "Wall time: 3.7 ms\n",
            "Training......\n",
            "CPU times: user 1.41 ms, sys: 1 ms, total: 2.41 ms\n",
            "Wall time: 1.23 ms\n",
            "Accuracy: 78.94736842105263\n",
            "--------------------------------------------------------------------\n",
            "Fold 6\n",
            "Training......\n",
            "CPU times: user 5.69 ms, sys: 3.01 ms, total: 8.7 ms\n",
            "Wall time: 4.52 ms\n",
            "Training......\n",
            "CPU times: user 1.92 ms, sys: 1.01 ms, total: 2.93 ms\n",
            "Wall time: 1.51 ms\n",
            "Accuracy: 73.68421052631578\n",
            "--------------------------------------------------------------------\n",
            "Fold 7\n",
            "Training......\n",
            "CPU times: user 3.81 ms, sys: 2.99 ms, total: 6.8 ms\n",
            "Wall time: 3.68 ms\n",
            "Training......\n",
            "CPU times: user 756 µs, sys: 1.99 ms, total: 2.74 ms\n",
            "Wall time: 1.45 ms\n",
            "Accuracy: 89.47368421052632\n",
            "--------------------------------------------------------------------\n",
            "Fold 8\n",
            "Training......\n",
            "CPU times: user 3.7 ms, sys: 4.79 ms, total: 8.49 ms\n",
            "Wall time: 4.51 ms\n",
            "Training......\n",
            "CPU times: user 3.27 ms, sys: 11 µs, total: 3.28 ms\n",
            "Wall time: 1.65 ms\n",
            "Accuracy: 84.21052631578947\n",
            "--------------------------------------------------------------------\n",
            "Fold 9\n",
            "Training......\n",
            "CPU times: user 4.28 ms, sys: 4 ms, total: 8.29 ms\n",
            "Wall time: 4.15 ms\n",
            "Training......\n",
            "CPU times: user 1.43 ms, sys: 1 ms, total: 2.43 ms\n",
            "Wall time: 1.22 ms\n",
            "Accuracy: 63.1578947368421\n",
            "--------------------------------------------------------------------\n",
            "Fold 10\n",
            "Training......\n",
            "CPU times: user 3.73 ms, sys: 3.01 ms, total: 6.74 ms\n",
            "Wall time: 3.38 ms\n",
            "Training......\n",
            "CPU times: user 1.73 ms, sys: 2 ms, total: 3.73 ms\n",
            "Wall time: 1.87 ms\n",
            "Accuracy: 75.0\n",
            "--------------------------------------------------------------------\n",
            "CPU times: user 87.4 ms, sys: 70.9 ms, total: 158 ms\n",
            "Wall time: 86.4 ms\n"
          ],
          "name": "stdout"
        }
      ]
    },
    {
      "cell_type": "code",
      "metadata": {
        "id": "6pGrPFZ7TShH",
        "colab_type": "code",
        "outputId": "5f289279-8585-440c-980f-f94434356aaf",
        "colab": {
          "base_uri": "https://localhost:8080/",
          "height": 1000
        }
      },
      "source": [
        "%%time\n",
        "print('         Unshuffled data')\n",
        "scores_lda_no_shuffle = []\n",
        "\n",
        "for index, (train, test) in enumerate(cross_val_indexes):\n",
        "    print(f'Fold {index + 1}')\n",
        "    train_x = np.column_stack([np.take(X_no_shuffle[:,i], train) for i in range(0, X_no_shuffle.shape[1])])\n",
        "    train_y = np.take(y_no_shuffle, train)\n",
        "    \n",
        "    print('Training......')\n",
        "    %time lda_model = mylda.LDA(np.array(train_x), np.array(train_y))\n",
        "\n",
        "    test_x = np.column_stack([np.take(X_no_shuffle[:,i], test) for i in range(0, X_no_shuffle.shape[1])])\n",
        "    test_y = np.take(y_no_shuffle, test)\n",
        "    print('Training......')\n",
        "    %time accuracy = lda_model.accu_eval(lda_model.predict(test_x), test_y)\n",
        "\n",
        "    print(f'Accuracy: {accuracy}')\n",
        "    scores_lda_no_shuffle.append(accuracy)\n",
        "    print('--------------------------------------------------------------------')"
      ],
      "execution_count": 0,
      "outputs": [
        {
          "output_type": "stream",
          "text": [
            "         Unshuffled data\n",
            "Fold 1\n",
            "Training......\n",
            "CPU times: user 3.89 ms, sys: 0 ns, total: 3.89 ms\n",
            "Wall time: 4.17 ms\n",
            "Training......\n",
            "CPU times: user 1.42 ms, sys: 1 ms, total: 2.43 ms\n",
            "Wall time: 1.27 ms\n",
            "Accuracy: 94.73684210526315\n",
            "--------------------------------------------------------------------\n",
            "Fold 2\n",
            "Training......\n",
            "CPU times: user 2.42 ms, sys: 3.99 ms, total: 6.4 ms\n",
            "Wall time: 3.9 ms\n",
            "Training......\n",
            "CPU times: user 1.32 ms, sys: 1.99 ms, total: 3.31 ms\n",
            "Wall time: 1.7 ms\n",
            "Accuracy: 89.47368421052632\n",
            "--------------------------------------------------------------------\n",
            "Fold 3\n",
            "Training......\n",
            "CPU times: user 4.33 ms, sys: 4.99 ms, total: 9.32 ms\n",
            "Wall time: 4.85 ms\n",
            "Training......\n",
            "CPU times: user 2.42 ms, sys: 994 µs, total: 3.41 ms\n",
            "Wall time: 1.75 ms\n",
            "Accuracy: 68.42105263157895\n",
            "--------------------------------------------------------------------\n",
            "Fold 4\n",
            "Training......\n",
            "CPU times: user 4.91 ms, sys: 3.82 ms, total: 8.73 ms\n",
            "Wall time: 5.06 ms\n",
            "Training......\n",
            "CPU times: user 1.81 ms, sys: 1.01 ms, total: 2.82 ms\n",
            "Wall time: 1.63 ms\n",
            "Accuracy: 100.0\n",
            "--------------------------------------------------------------------\n",
            "Fold 5\n",
            "Training......\n",
            "CPU times: user 2.66 ms, sys: 2.98 ms, total: 5.64 ms\n",
            "Wall time: 3.5 ms\n",
            "Training......\n",
            "CPU times: user 668 µs, sys: 1.86 ms, total: 2.53 ms\n",
            "Wall time: 1.33 ms\n",
            "Accuracy: 100.0\n",
            "--------------------------------------------------------------------\n",
            "Fold 6\n",
            "Training......\n",
            "CPU times: user 5.8 ms, sys: 1.01 ms, total: 6.8 ms\n",
            "Wall time: 3.52 ms\n",
            "Training......\n",
            "CPU times: user 1.51 ms, sys: 1.01 ms, total: 2.51 ms\n",
            "Wall time: 1.42 ms\n",
            "Accuracy: 52.63157894736842\n",
            "--------------------------------------------------------------------\n",
            "Fold 7\n",
            "Training......\n",
            "CPU times: user 4.79 ms, sys: 2.01 ms, total: 6.8 ms\n",
            "Wall time: 3.58 ms\n",
            "Training......\n",
            "CPU times: user 1.4 ms, sys: 1 ms, total: 2.41 ms\n",
            "Wall time: 1.21 ms\n",
            "Accuracy: 94.73684210526315\n",
            "--------------------------------------------------------------------\n",
            "Fold 8\n",
            "Training......\n",
            "CPU times: user 3.76 ms, sys: 3.01 ms, total: 6.76 ms\n",
            "Wall time: 3.39 ms\n",
            "Training......\n",
            "CPU times: user 466 µs, sys: 1.98 ms, total: 2.45 ms\n",
            "Wall time: 1.23 ms\n",
            "Accuracy: 94.73684210526315\n",
            "--------------------------------------------------------------------\n",
            "Fold 9\n",
            "Training......\n",
            "CPU times: user 4.8 ms, sys: 1.99 ms, total: 6.79 ms\n",
            "Wall time: 3.4 ms\n",
            "Training......\n",
            "CPU times: user 1.39 ms, sys: 1 ms, total: 2.39 ms\n",
            "Wall time: 1.2 ms\n",
            "Accuracy: 94.73684210526315\n",
            "--------------------------------------------------------------------\n",
            "Fold 10\n",
            "Training......\n",
            "CPU times: user 3.56 ms, sys: 3 ms, total: 6.56 ms\n",
            "Wall time: 3.29 ms\n",
            "Training......\n",
            "CPU times: user 1.01 ms, sys: 1.99 ms, total: 3 ms\n",
            "Wall time: 1.5 ms\n",
            "Accuracy: 25.0\n",
            "--------------------------------------------------------------------\n",
            "CPU times: user 91.3 ms, sys: 65 ms, total: 156 ms\n",
            "Wall time: 88.3 ms\n"
          ],
          "name": "stdout"
        }
      ]
    },
    {
      "cell_type": "code",
      "metadata": {
        "id": "O-tohTN8-clh",
        "colab_type": "code",
        "colab": {}
      },
      "source": [
        "max_accuracy_lda = max(scores_lda)\n",
        "min_accuracy_lda = min(scores_lda)\n",
        "average_accuracy_lda = statistics.mean(scores_lda)\n",
        "\n",
        "max_accuracy_lda_no_shuffle = max(scores_lda_no_shuffle)\n",
        "min_accuracy_lda_no_shuffle = min(scores_lda_no_shuffle)\n",
        "average_accuracy_lda_no_shuffle = statistics.mean(scores_lda_no_shuffle)"
      ],
      "execution_count": 0,
      "outputs": []
    },
    {
      "cell_type": "code",
      "metadata": {
        "id": "GNJyi24VtYoa",
        "colab_type": "code",
        "outputId": "ddba398b-8ac1-4e22-b687-fb53b06cdb42",
        "colab": {
          "base_uri": "https://localhost:8080/",
          "height": 125
        }
      },
      "source": [
        "print(f'Maximum accuracy: {max_accuracy_lda}')\n",
        "print(f'Minimum accuracy: {min_accuracy_lda}')\n",
        "print(f'Average accuracy: {average_accuracy_lda}')\n",
        "\n",
        "print(f'Maximum accuracy (no shuffle): {max_accuracy_lda_no_shuffle}')\n",
        "print(f'Minimum accuracy (no shuffle): {min_accuracy_lda_no_shuffle}')\n",
        "print(f'Average accuracy (no shuffle): {average_accuracy_lda_no_shuffle}')"
      ],
      "execution_count": 0,
      "outputs": [
        {
          "output_type": "stream",
          "text": [
            "Maximum accuracy: 100.0\n",
            "Minimum accuracy: 63.1578947368421\n",
            "Average accuracy: 84.86842105263158\n",
            "Maximum accuracy (no shuffle): 100.0\n",
            "Minimum accuracy (no shuffle): 25.0\n",
            "Average accuracy (no shuffle): 81.44736842105263\n"
          ],
          "name": "stdout"
        }
      ]
    },
    {
      "cell_type": "code",
      "metadata": {
        "id": "zZZgB5xD_PSN",
        "colab_type": "code",
        "outputId": "38baab89-f2e5-4f5f-bd3b-5f675c8d1bf9",
        "colab": {
          "base_uri": "https://localhost:8080/",
          "height": 35
        }
      },
      "source": [
        "max_accuracy_lda"
      ],
      "execution_count": 0,
      "outputs": [
        {
          "output_type": "execute_result",
          "data": {
            "text/plain": [
              "100.0"
            ]
          },
          "metadata": {
            "tags": []
          },
          "execution_count": 124
        }
      ]
    },
    {
      "cell_type": "code",
      "metadata": {
        "id": "cZQIv2O2YY6D",
        "colab_type": "code",
        "outputId": "6f01d7cf-5936-4467-ff7e-429aa5492130",
        "colab": {
          "base_uri": "https://localhost:8080/",
          "height": 35
        }
      },
      "source": [
        "max_accuracy_lda_no_shuffle"
      ],
      "execution_count": 0,
      "outputs": [
        {
          "output_type": "execute_result",
          "data": {
            "text/plain": [
              "100.0"
            ]
          },
          "metadata": {
            "tags": []
          },
          "execution_count": 125
        }
      ]
    },
    {
      "cell_type": "code",
      "metadata": {
        "id": "Q5XsklBv_Pei",
        "colab_type": "code",
        "outputId": "a7361844-5471-41b3-814d-03fce7a76e1d",
        "colab": {
          "base_uri": "https://localhost:8080/",
          "height": 35
        }
      },
      "source": [
        "min_accuracy_lda"
      ],
      "execution_count": 0,
      "outputs": [
        {
          "output_type": "execute_result",
          "data": {
            "text/plain": [
              "63.1578947368421"
            ]
          },
          "metadata": {
            "tags": []
          },
          "execution_count": 126
        }
      ]
    },
    {
      "cell_type": "code",
      "metadata": {
        "id": "gOB9SYqrYc4E",
        "colab_type": "code",
        "outputId": "259ac565-9cd3-4c1c-9ba1-7eb0a82bd048",
        "colab": {
          "base_uri": "https://localhost:8080/",
          "height": 35
        }
      },
      "source": [
        "min_accuracy_lda_no_shuffle"
      ],
      "execution_count": 0,
      "outputs": [
        {
          "output_type": "execute_result",
          "data": {
            "text/plain": [
              "25.0"
            ]
          },
          "metadata": {
            "tags": []
          },
          "execution_count": 127
        }
      ]
    },
    {
      "cell_type": "code",
      "metadata": {
        "id": "CnJz0tNd_Pnk",
        "colab_type": "code",
        "outputId": "67e2e097-5cdf-4286-ff7a-ab6247488cfa",
        "colab": {
          "base_uri": "https://localhost:8080/",
          "height": 35
        }
      },
      "source": [
        "average_accuracy_lda"
      ],
      "execution_count": 0,
      "outputs": [
        {
          "output_type": "execute_result",
          "data": {
            "text/plain": [
              "84.86842105263158"
            ]
          },
          "metadata": {
            "tags": []
          },
          "execution_count": 128
        }
      ]
    },
    {
      "cell_type": "code",
      "metadata": {
        "id": "ttqkzPnOYlcT",
        "colab_type": "code",
        "outputId": "2a733278-9035-4d8c-c563-2b8deb0942b3",
        "colab": {
          "base_uri": "https://localhost:8080/",
          "height": 35
        }
      },
      "source": [
        "average_accuracy_lda_no_shuffle"
      ],
      "execution_count": 0,
      "outputs": [
        {
          "output_type": "execute_result",
          "data": {
            "text/plain": [
              "81.44736842105263"
            ]
          },
          "metadata": {
            "tags": []
          },
          "execution_count": 129
        }
      ]
    },
    {
      "cell_type": "code",
      "metadata": {
        "id": "RsWG9Z08ZLqM",
        "colab_type": "code",
        "outputId": "b28462c4-5923-43c7-9863-3ab9b3922bf9",
        "colab": {
          "base_uri": "https://localhost:8080/",
          "height": 197
        }
      },
      "source": [
        "scores_lda"
      ],
      "execution_count": 0,
      "outputs": [
        {
          "output_type": "execute_result",
          "data": {
            "text/plain": [
              "[100.0,\n",
              " 89.47368421052632,\n",
              " 94.73684210526315,\n",
              " 100.0,\n",
              " 78.94736842105263,\n",
              " 73.68421052631578,\n",
              " 89.47368421052632,\n",
              " 84.21052631578947,\n",
              " 63.1578947368421,\n",
              " 75.0]"
            ]
          },
          "metadata": {
            "tags": []
          },
          "execution_count": 132
        }
      ]
    },
    {
      "cell_type": "code",
      "metadata": {
        "id": "c7rB3cutZH4X",
        "colab_type": "code",
        "outputId": "7088b961-65e0-4627-9656-267d1a54b0de",
        "colab": {
          "base_uri": "https://localhost:8080/",
          "height": 197
        }
      },
      "source": [
        "scores_lda_no_shuffle"
      ],
      "execution_count": 0,
      "outputs": [
        {
          "output_type": "execute_result",
          "data": {
            "text/plain": [
              "[94.73684210526315,\n",
              " 89.47368421052632,\n",
              " 68.42105263157895,\n",
              " 100.0,\n",
              " 100.0,\n",
              " 52.63157894736842,\n",
              " 94.73684210526315,\n",
              " 94.73684210526315,\n",
              " 94.73684210526315,\n",
              " 25.0]"
            ]
          },
          "metadata": {
            "tags": []
          },
          "execution_count": 130
        }
      ]
    },
    {
      "cell_type": "markdown",
      "metadata": {
        "id": "Bd-eEfAdaQFL",
        "colab_type": "text"
      },
      "source": [
        "##Result analysis"
      ]
    },
    {
      "cell_type": "code",
      "metadata": {
        "id": "YNbwqd5OaUh6",
        "colab_type": "code",
        "outputId": "82af710e-6a1b-4b34-d53e-cf398d035a35",
        "colab": {
          "base_uri": "https://localhost:8080/",
          "height": 313
        }
      },
      "source": [
        "# matplotlib histogram\n",
        "plt.hist(scores_lda_no_shuffle, color = 'blue', edgecolor = 'black',\n",
        "         bins = int(180/5))\n",
        "\n",
        "# seaborn histogram\n",
        "sns.distplot(scores_lda_no_shuffle, hist=True, kde=False, \n",
        "             bins=int(180/5), color = 'blue',\n",
        "             hist_kws={'edgecolor':'black'})\n",
        "# Add labels\n",
        "plt.title('Histogram of Arrival Delays')\n",
        "plt.xlabel('Delay (min)')\n",
        "plt.ylabel('Flights')"
      ],
      "execution_count": 0,
      "outputs": [
        {
          "output_type": "execute_result",
          "data": {
            "text/plain": [
              "Text(0, 0.5, 'Flights')"
            ]
          },
          "metadata": {
            "tags": []
          },
          "execution_count": 133
        },
        {
          "output_type": "display_data",
          "data": {
            "image/png": "[encoded data removed]",
            "text/plain": [
              "<Figure size 432x288 with 1 Axes>"
            ]
          },
          "metadata": {
            "tags": []
          }
        }
      ]
    }
  ]
}